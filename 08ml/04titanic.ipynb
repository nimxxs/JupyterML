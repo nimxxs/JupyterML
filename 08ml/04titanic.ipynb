{
 "cells": [
  {
   "cell_type": "markdown",
   "id": "fa56f781-6364-4aac-8499-9241a3c0a9e3",
   "metadata": {},
   "source": [
    "### 타이타닉 데이터를 이용한 데이터 탐색"
   ]
  },
  {
   "cell_type": "code",
   "execution_count": 1,
   "id": "d39762f5-c28b-4810-9aac-7e8af72bb0ed",
   "metadata": {},
   "outputs": [],
   "source": [
    "import numpy as np\n",
    "import pandas as pd\n",
    "import matplotlib.pyplot as plt\n",
    "import seaborn as sns"
   ]
  },
  {
   "cell_type": "code",
   "execution_count": 2,
   "id": "0d9d66df-00d3-4b87-b7af-4fa2047625fb",
   "metadata": {},
   "outputs": [],
   "source": [
    "from sklearn.preprocessing import LabelEncoder\n",
    "from sklearn.preprocessing import StandardScaler"
   ]
  },
  {
   "cell_type": "code",
   "execution_count": 3,
   "id": "78e8b4a3-0e48-48cb-96c2-bc47ee7ad1c1",
   "metadata": {},
   "outputs": [
    {
     "data": {
      "text/html": [
       "<div>\n",
       "<style scoped>\n",
       "    .dataframe tbody tr th:only-of-type {\n",
       "        vertical-align: middle;\n",
       "    }\n",
       "\n",
       "    .dataframe tbody tr th {\n",
       "        vertical-align: top;\n",
       "    }\n",
       "\n",
       "    .dataframe thead th {\n",
       "        text-align: right;\n",
       "    }\n",
       "</style>\n",
       "<table border=\"1\" class=\"dataframe\">\n",
       "  <thead>\n",
       "    <tr style=\"text-align: right;\">\n",
       "      <th></th>\n",
       "      <th>name</th>\n",
       "      <th>sex</th>\n",
       "      <th>age</th>\n",
       "      <th>sibsp</th>\n",
       "      <th>parch</th>\n",
       "      <th>ticket</th>\n",
       "      <th>fare</th>\n",
       "      <th>cabin</th>\n",
       "      <th>embarked</th>\n",
       "      <th>seat</th>\n",
       "      <th>live</th>\n",
       "    </tr>\n",
       "  </thead>\n",
       "  <tbody>\n",
       "    <tr>\n",
       "      <th>0</th>\n",
       "      <td>Allen, Miss. Elisabeth Walton</td>\n",
       "      <td>female</td>\n",
       "      <td>29.0000</td>\n",
       "      <td>0.0</td>\n",
       "      <td>0.0</td>\n",
       "      <td>24160</td>\n",
       "      <td>211.3375</td>\n",
       "      <td>B5</td>\n",
       "      <td>S</td>\n",
       "      <td>1st</td>\n",
       "      <td>live</td>\n",
       "    </tr>\n",
       "    <tr>\n",
       "      <th>1</th>\n",
       "      <td>Allison, Master. Hudson Trevor</td>\n",
       "      <td>male</td>\n",
       "      <td>0.9167</td>\n",
       "      <td>1.0</td>\n",
       "      <td>2.0</td>\n",
       "      <td>113781</td>\n",
       "      <td>151.5500</td>\n",
       "      <td>C22 C26</td>\n",
       "      <td>S</td>\n",
       "      <td>1st</td>\n",
       "      <td>live</td>\n",
       "    </tr>\n",
       "    <tr>\n",
       "      <th>2</th>\n",
       "      <td>Allison, Miss. Helen Loraine</td>\n",
       "      <td>female</td>\n",
       "      <td>2.0000</td>\n",
       "      <td>1.0</td>\n",
       "      <td>2.0</td>\n",
       "      <td>113781</td>\n",
       "      <td>151.5500</td>\n",
       "      <td>C22 C26</td>\n",
       "      <td>S</td>\n",
       "      <td>1st</td>\n",
       "      <td>dead</td>\n",
       "    </tr>\n",
       "    <tr>\n",
       "      <th>3</th>\n",
       "      <td>Allison, Mr. Hudson Joshua Creighton</td>\n",
       "      <td>male</td>\n",
       "      <td>30.0000</td>\n",
       "      <td>1.0</td>\n",
       "      <td>2.0</td>\n",
       "      <td>113781</td>\n",
       "      <td>151.5500</td>\n",
       "      <td>C22 C26</td>\n",
       "      <td>S</td>\n",
       "      <td>1st</td>\n",
       "      <td>dead</td>\n",
       "    </tr>\n",
       "    <tr>\n",
       "      <th>4</th>\n",
       "      <td>Allison, Mrs. Hudson J C (Bessie Waldo Daniels)</td>\n",
       "      <td>female</td>\n",
       "      <td>25.0000</td>\n",
       "      <td>1.0</td>\n",
       "      <td>2.0</td>\n",
       "      <td>113781</td>\n",
       "      <td>151.5500</td>\n",
       "      <td>C22 C26</td>\n",
       "      <td>S</td>\n",
       "      <td>1st</td>\n",
       "      <td>dead</td>\n",
       "    </tr>\n",
       "  </tbody>\n",
       "</table>\n",
       "</div>"
      ],
      "text/plain": [
       "                                              name     sex      age  sibsp  \\\n",
       "0                    Allen, Miss. Elisabeth Walton  female  29.0000    0.0   \n",
       "1                   Allison, Master. Hudson Trevor    male   0.9167    1.0   \n",
       "2                     Allison, Miss. Helen Loraine  female   2.0000    1.0   \n",
       "3             Allison, Mr. Hudson Joshua Creighton    male  30.0000    1.0   \n",
       "4  Allison, Mrs. Hudson J C (Bessie Waldo Daniels)  female  25.0000    1.0   \n",
       "\n",
       "   parch  ticket      fare    cabin embarked seat  live  \n",
       "0    0.0   24160  211.3375       B5        S  1st  live  \n",
       "1    2.0  113781  151.5500  C22 C26        S  1st  live  \n",
       "2    2.0  113781  151.5500  C22 C26        S  1st  dead  \n",
       "3    2.0  113781  151.5500  C22 C26        S  1st  dead  \n",
       "4    2.0  113781  151.5500  C22 C26        S  1st  dead  "
      ]
     },
     "execution_count": 3,
     "metadata": {},
     "output_type": "execute_result"
    }
   ],
   "source": [
    "# 데이터 불러오기\n",
    "titanic = pd.read_csv('./data/titanic2.csv')\n",
    "titanic.head()"
   ]
  },
  {
   "cell_type": "markdown",
   "id": "2dc1d1f2-a3ea-4747-bd95-5243800b2344",
   "metadata": {},
   "source": [
    "#### 전처리"
   ]
  },
  {
   "cell_type": "code",
   "execution_count": 4,
   "id": "3f480840-1061-42dc-a677-fe2bd953ba00",
   "metadata": {},
   "outputs": [
    {
     "name": "stdout",
     "output_type": "stream",
     "text": [
      "<class 'pandas.core.frame.DataFrame'>\n",
      "RangeIndex: 1310 entries, 0 to 1309\n",
      "Data columns (total 11 columns):\n",
      " #   Column    Non-Null Count  Dtype  \n",
      "---  ------    --------------  -----  \n",
      " 0   name      1309 non-null   object \n",
      " 1   sex       1309 non-null   object \n",
      " 2   age       1046 non-null   float64\n",
      " 3   sibsp     1309 non-null   float64\n",
      " 4   parch     1309 non-null   float64\n",
      " 5   ticket    1309 non-null   object \n",
      " 6   fare      1308 non-null   float64\n",
      " 7   cabin     295 non-null    object \n",
      " 8   embarked  1307 non-null   object \n",
      " 9   seat      1310 non-null   object \n",
      " 10  live      1310 non-null   object \n",
      "dtypes: float64(4), object(7)\n",
      "memory usage: 112.7+ KB\n"
     ]
    }
   ],
   "source": [
    "# 결측치 처리\n",
    "# age : 대체값으로 보충\n",
    "# cabin : 컬럼 삭제\n",
    "# fare, embarked : 행 삭제\n",
    "titanic.info()"
   ]
  },
  {
   "cell_type": "code",
   "execution_count": 5,
   "id": "4e466723-69ae-437b-99c2-9e93d1acc305",
   "metadata": {},
   "outputs": [],
   "source": [
    "titanic.age.fillna(np.mean(titanic.age), inplace=True)"
   ]
  },
  {
   "cell_type": "code",
   "execution_count": 6,
   "id": "06008d04-cbae-46be-b9fc-27ad5b4e3cbc",
   "metadata": {},
   "outputs": [],
   "source": [
    "titanic.drop(columns=['cabin'], inplace=True)"
   ]
  },
  {
   "cell_type": "code",
   "execution_count": 7,
   "id": "c7149871-5bd5-4332-a4a4-542589e3bbf5",
   "metadata": {},
   "outputs": [],
   "source": [
    "titanic.dropna(inplace=True)"
   ]
  },
  {
   "cell_type": "code",
   "execution_count": 8,
   "id": "db6c0eff-f7d8-484f-90a0-887e88f98eda",
   "metadata": {},
   "outputs": [
    {
     "name": "stdout",
     "output_type": "stream",
     "text": [
      "<class 'pandas.core.frame.DataFrame'>\n",
      "Index: 1306 entries, 0 to 1308\n",
      "Data columns (total 10 columns):\n",
      " #   Column    Non-Null Count  Dtype  \n",
      "---  ------    --------------  -----  \n",
      " 0   name      1306 non-null   object \n",
      " 1   sex       1306 non-null   object \n",
      " 2   age       1306 non-null   float64\n",
      " 3   sibsp     1306 non-null   float64\n",
      " 4   parch     1306 non-null   float64\n",
      " 5   ticket    1306 non-null   object \n",
      " 6   fare      1306 non-null   float64\n",
      " 7   embarked  1306 non-null   object \n",
      " 8   seat      1306 non-null   object \n",
      " 9   live      1306 non-null   object \n",
      "dtypes: float64(4), object(6)\n",
      "memory usage: 112.2+ KB\n"
     ]
    }
   ],
   "source": [
    "titanic.info()"
   ]
  },
  {
   "cell_type": "code",
   "execution_count": 9,
   "id": "6fa3b496-83d0-47aa-a675-754b458d2106",
   "metadata": {},
   "outputs": [
    {
     "data": {
      "text/html": [
       "<div>\n",
       "<style scoped>\n",
       "    .dataframe tbody tr th:only-of-type {\n",
       "        vertical-align: middle;\n",
       "    }\n",
       "\n",
       "    .dataframe tbody tr th {\n",
       "        vertical-align: top;\n",
       "    }\n",
       "\n",
       "    .dataframe thead th {\n",
       "        text-align: right;\n",
       "    }\n",
       "</style>\n",
       "<table border=\"1\" class=\"dataframe\">\n",
       "  <thead>\n",
       "    <tr style=\"text-align: right;\">\n",
       "      <th></th>\n",
       "      <th>sex</th>\n",
       "      <th>gender</th>\n",
       "    </tr>\n",
       "  </thead>\n",
       "  <tbody>\n",
       "    <tr>\n",
       "      <th>0</th>\n",
       "      <td>female</td>\n",
       "      <td>0</td>\n",
       "    </tr>\n",
       "    <tr>\n",
       "      <th>1</th>\n",
       "      <td>male</td>\n",
       "      <td>1</td>\n",
       "    </tr>\n",
       "    <tr>\n",
       "      <th>2</th>\n",
       "      <td>female</td>\n",
       "      <td>0</td>\n",
       "    </tr>\n",
       "    <tr>\n",
       "      <th>3</th>\n",
       "      <td>male</td>\n",
       "      <td>1</td>\n",
       "    </tr>\n",
       "    <tr>\n",
       "      <th>4</th>\n",
       "      <td>female</td>\n",
       "      <td>0</td>\n",
       "    </tr>\n",
       "  </tbody>\n",
       "</table>\n",
       "</div>"
      ],
      "text/plain": [
       "      sex  gender\n",
       "0  female       0\n",
       "1    male       1\n",
       "2  female       0\n",
       "3    male       1\n",
       "4  female       0"
      ]
     },
     "execution_count": 9,
     "metadata": {},
     "output_type": "execute_result"
    }
   ],
   "source": [
    "# 레이블 인코딩\n",
    "encoder = LabelEncoder()\n",
    "encoder.fit(titanic.sex)\n",
    "titanic['gender'] = encoder.transform(titanic.sex)\n",
    "titanic.loc[:, ['sex', 'gender']].head()"
   ]
  },
  {
   "cell_type": "code",
   "execution_count": 10,
   "id": "698db5da-b587-41ac-b12d-d323a0d9df54",
   "metadata": {},
   "outputs": [
    {
     "data": {
      "text/html": [
       "<div>\n",
       "<style scoped>\n",
       "    .dataframe tbody tr th:only-of-type {\n",
       "        vertical-align: middle;\n",
       "    }\n",
       "\n",
       "    .dataframe tbody tr th {\n",
       "        vertical-align: top;\n",
       "    }\n",
       "\n",
       "    .dataframe thead th {\n",
       "        text-align: right;\n",
       "    }\n",
       "</style>\n",
       "<table border=\"1\" class=\"dataframe\">\n",
       "  <thead>\n",
       "    <tr style=\"text-align: right;\">\n",
       "      <th></th>\n",
       "      <th>embarked</th>\n",
       "      <th>embark_town</th>\n",
       "    </tr>\n",
       "  </thead>\n",
       "  <tbody>\n",
       "    <tr>\n",
       "      <th>0</th>\n",
       "      <td>S</td>\n",
       "      <td>2</td>\n",
       "    </tr>\n",
       "    <tr>\n",
       "      <th>1</th>\n",
       "      <td>S</td>\n",
       "      <td>2</td>\n",
       "    </tr>\n",
       "    <tr>\n",
       "      <th>2</th>\n",
       "      <td>S</td>\n",
       "      <td>2</td>\n",
       "    </tr>\n",
       "    <tr>\n",
       "      <th>3</th>\n",
       "      <td>S</td>\n",
       "      <td>2</td>\n",
       "    </tr>\n",
       "    <tr>\n",
       "      <th>4</th>\n",
       "      <td>S</td>\n",
       "      <td>2</td>\n",
       "    </tr>\n",
       "  </tbody>\n",
       "</table>\n",
       "</div>"
      ],
      "text/plain": [
       "  embarked  embark_town\n",
       "0        S            2\n",
       "1        S            2\n",
       "2        S            2\n",
       "3        S            2\n",
       "4        S            2"
      ]
     },
     "execution_count": 10,
     "metadata": {},
     "output_type": "execute_result"
    }
   ],
   "source": [
    "encoder = LabelEncoder()\n",
    "encoder.fit(titanic.embarked)\n",
    "titanic['embark_town'] = encoder.transform(titanic.embarked)\n",
    "titanic.loc[:, ['embarked', 'embark_town']].head()"
   ]
  },
  {
   "cell_type": "code",
   "execution_count": 11,
   "id": "8c9ae8b1-24f9-43e3-95c0-29df5831d93b",
   "metadata": {},
   "outputs": [
    {
     "data": {
      "text/html": [
       "<div>\n",
       "<style scoped>\n",
       "    .dataframe tbody tr th:only-of-type {\n",
       "        vertical-align: middle;\n",
       "    }\n",
       "\n",
       "    .dataframe tbody tr th {\n",
       "        vertical-align: top;\n",
       "    }\n",
       "\n",
       "    .dataframe thead th {\n",
       "        text-align: right;\n",
       "    }\n",
       "</style>\n",
       "<table border=\"1\" class=\"dataframe\">\n",
       "  <thead>\n",
       "    <tr style=\"text-align: right;\">\n",
       "      <th></th>\n",
       "      <th>seat</th>\n",
       "      <th>pclass</th>\n",
       "    </tr>\n",
       "  </thead>\n",
       "  <tbody>\n",
       "    <tr>\n",
       "      <th>0</th>\n",
       "      <td>1st</td>\n",
       "      <td>0</td>\n",
       "    </tr>\n",
       "    <tr>\n",
       "      <th>1</th>\n",
       "      <td>1st</td>\n",
       "      <td>0</td>\n",
       "    </tr>\n",
       "    <tr>\n",
       "      <th>2</th>\n",
       "      <td>1st</td>\n",
       "      <td>0</td>\n",
       "    </tr>\n",
       "    <tr>\n",
       "      <th>3</th>\n",
       "      <td>1st</td>\n",
       "      <td>0</td>\n",
       "    </tr>\n",
       "    <tr>\n",
       "      <th>4</th>\n",
       "      <td>1st</td>\n",
       "      <td>0</td>\n",
       "    </tr>\n",
       "  </tbody>\n",
       "</table>\n",
       "</div>"
      ],
      "text/plain": [
       "  seat  pclass\n",
       "0  1st       0\n",
       "1  1st       0\n",
       "2  1st       0\n",
       "3  1st       0\n",
       "4  1st       0"
      ]
     },
     "execution_count": 11,
     "metadata": {},
     "output_type": "execute_result"
    }
   ],
   "source": [
    "encoder = LabelEncoder()\n",
    "encoder.fit(titanic.seat)\n",
    "titanic['pclass'] = encoder.transform(titanic.seat)\n",
    "titanic.loc[:, ['seat', 'pclass']].head()"
   ]
  },
  {
   "cell_type": "code",
   "execution_count": 12,
   "id": "3d62bc89-07d4-43ed-8e13-d2dfa3d5658d",
   "metadata": {},
   "outputs": [
    {
     "data": {
      "text/html": [
       "<div>\n",
       "<style scoped>\n",
       "    .dataframe tbody tr th:only-of-type {\n",
       "        vertical-align: middle;\n",
       "    }\n",
       "\n",
       "    .dataframe tbody tr th {\n",
       "        vertical-align: top;\n",
       "    }\n",
       "\n",
       "    .dataframe thead th {\n",
       "        text-align: right;\n",
       "    }\n",
       "</style>\n",
       "<table border=\"1\" class=\"dataframe\">\n",
       "  <thead>\n",
       "    <tr style=\"text-align: right;\">\n",
       "      <th></th>\n",
       "      <th>live</th>\n",
       "      <th>survived</th>\n",
       "    </tr>\n",
       "  </thead>\n",
       "  <tbody>\n",
       "    <tr>\n",
       "      <th>0</th>\n",
       "      <td>live</td>\n",
       "      <td>1</td>\n",
       "    </tr>\n",
       "    <tr>\n",
       "      <th>1</th>\n",
       "      <td>live</td>\n",
       "      <td>1</td>\n",
       "    </tr>\n",
       "    <tr>\n",
       "      <th>2</th>\n",
       "      <td>dead</td>\n",
       "      <td>0</td>\n",
       "    </tr>\n",
       "    <tr>\n",
       "      <th>3</th>\n",
       "      <td>dead</td>\n",
       "      <td>0</td>\n",
       "    </tr>\n",
       "    <tr>\n",
       "      <th>4</th>\n",
       "      <td>dead</td>\n",
       "      <td>0</td>\n",
       "    </tr>\n",
       "  </tbody>\n",
       "</table>\n",
       "</div>"
      ],
      "text/plain": [
       "   live  survived\n",
       "0  live         1\n",
       "1  live         1\n",
       "2  dead         0\n",
       "3  dead         0\n",
       "4  dead         0"
      ]
     },
     "execution_count": 12,
     "metadata": {},
     "output_type": "execute_result"
    }
   ],
   "source": [
    "encoder = LabelEncoder()\n",
    "encoder.fit(titanic.live)\n",
    "titanic['survived'] = encoder.transform(titanic.live)\n",
    "titanic.loc[:, ['live', 'survived']].head()"
   ]
  },
  {
   "cell_type": "code",
   "execution_count": 13,
   "id": "3855736c-403a-4846-8109-ec6c800f08c7",
   "metadata": {},
   "outputs": [
    {
     "data": {
      "text/plain": [
       "0                      Allen, Miss. Elisabeth Walton\n",
       "1                     Allison, Master. Hudson Trevor\n",
       "2                       Allison, Miss. Helen Loraine\n",
       "3               Allison, Mr. Hudson Joshua Creighton\n",
       "4    Allison, Mrs. Hudson J C (Bessie Waldo Daniels)\n",
       "Name: name, dtype: object"
      ]
     },
     "execution_count": 13,
     "metadata": {},
     "output_type": "execute_result"
    }
   ],
   "source": [
    "titanic.name[:5]"
   ]
  },
  {
   "cell_type": "code",
   "execution_count": 14,
   "id": "67ae5eec-46c2-4ace-aa6c-fdc54074bc79",
   "metadata": {},
   "outputs": [
    {
     "data": {
      "text/html": [
       "<div>\n",
       "<style scoped>\n",
       "    .dataframe tbody tr th:only-of-type {\n",
       "        vertical-align: middle;\n",
       "    }\n",
       "\n",
       "    .dataframe tbody tr th {\n",
       "        vertical-align: top;\n",
       "    }\n",
       "\n",
       "    .dataframe thead th {\n",
       "        text-align: right;\n",
       "    }\n",
       "</style>\n",
       "<table border=\"1\" class=\"dataframe\">\n",
       "  <thead>\n",
       "    <tr style=\"text-align: right;\">\n",
       "      <th></th>\n",
       "      <th>name</th>\n",
       "      <th>title</th>\n",
       "    </tr>\n",
       "  </thead>\n",
       "  <tbody>\n",
       "    <tr>\n",
       "      <th>0</th>\n",
       "      <td>Allen, Miss. Elisabeth Walton</td>\n",
       "      <td>Miss</td>\n",
       "    </tr>\n",
       "    <tr>\n",
       "      <th>1</th>\n",
       "      <td>Allison, Master. Hudson Trevor</td>\n",
       "      <td>Master</td>\n",
       "    </tr>\n",
       "    <tr>\n",
       "      <th>2</th>\n",
       "      <td>Allison, Miss. Helen Loraine</td>\n",
       "      <td>Miss</td>\n",
       "    </tr>\n",
       "    <tr>\n",
       "      <th>3</th>\n",
       "      <td>Allison, Mr. Hudson Joshua Creighton</td>\n",
       "      <td>Mr</td>\n",
       "    </tr>\n",
       "    <tr>\n",
       "      <th>4</th>\n",
       "      <td>Allison, Mrs. Hudson J C (Bessie Waldo Daniels)</td>\n",
       "      <td>Mrs</td>\n",
       "    </tr>\n",
       "  </tbody>\n",
       "</table>\n",
       "</div>"
      ],
      "text/plain": [
       "                                              name   title\n",
       "0                    Allen, Miss. Elisabeth Walton    Miss\n",
       "1                   Allison, Master. Hudson Trevor  Master\n",
       "2                     Allison, Miss. Helen Loraine    Miss\n",
       "3             Allison, Mr. Hudson Joshua Creighton      Mr\n",
       "4  Allison, Mrs. Hudson J C (Bessie Waldo Daniels)     Mrs"
      ]
     },
     "execution_count": 14,
     "metadata": {},
     "output_type": "execute_result"
    }
   ],
   "source": [
    "titanic['title'] = titanic.name.str.split(' ')\\\n",
    "                    .str[1].replace('\\.', '', regex=True)\\\n",
    "                    .replace(',', '', regex=True)\n",
    "titanic.loc[:, ['name', 'title']].head()"
   ]
  },
  {
   "cell_type": "code",
   "execution_count": 15,
   "id": "40d48ab4-7f6c-4bdf-9ff9-7850be7488b5",
   "metadata": {},
   "outputs": [
    {
     "data": {
      "text/plain": [
       "title\n",
       "Mr             735\n",
       "Miss           255\n",
       "Mrs            190\n",
       "Master          59\n",
       "y                8\n",
       "Rev              8\n",
       "Dr               8\n",
       "Planke           4\n",
       "Col              4\n",
       "Impe             3\n",
       "Billiard         3\n",
       "Messemaeker      2\n",
       "Mlle             2\n",
       "Major            2\n",
       "Carlo            2\n",
       "Ms               2\n",
       "Gordon           2\n",
       "Shawah           1\n",
       "Cruyssen         1\n",
       "Steen            1\n",
       "Walle            1\n",
       "Velde            1\n",
       "Melkebeke        1\n",
       "Palmquist        1\n",
       "Capt             1\n",
       "Pelsmaeker       1\n",
       "Mulder           1\n",
       "Khalil           1\n",
       "Mme              1\n",
       "der              1\n",
       "Don              1\n",
       "the              1\n",
       "Jonkheer         1\n",
       "Brito            1\n",
       "Name: count, dtype: int64"
      ]
     },
     "execution_count": 15,
     "metadata": {},
     "output_type": "execute_result"
    }
   ],
   "source": [
    "# Rev 신부, Dr 의사, Col 대령, Capt 선장, Magor 소령 \n",
    "titanic.title.value_counts()"
   ]
  },
  {
   "cell_type": "code",
   "execution_count": 16,
   "id": "47f143ba-e030-415d-8e39-9d3db422c776",
   "metadata": {},
   "outputs": [
    {
     "data": {
      "text/html": [
       "<div>\n",
       "<style scoped>\n",
       "    .dataframe tbody tr th:only-of-type {\n",
       "        vertical-align: middle;\n",
       "    }\n",
       "\n",
       "    .dataframe tbody tr th {\n",
       "        vertical-align: top;\n",
       "    }\n",
       "\n",
       "    .dataframe thead th {\n",
       "        text-align: right;\n",
       "    }\n",
       "</style>\n",
       "<table border=\"1\" class=\"dataframe\">\n",
       "  <thead>\n",
       "    <tr style=\"text-align: right;\">\n",
       "      <th></th>\n",
       "      <th>title</th>\n",
       "      <th>titles</th>\n",
       "    </tr>\n",
       "  </thead>\n",
       "  <tbody>\n",
       "    <tr>\n",
       "      <th>0</th>\n",
       "      <td>Miss</td>\n",
       "      <td>16</td>\n",
       "    </tr>\n",
       "    <tr>\n",
       "      <th>1</th>\n",
       "      <td>Master</td>\n",
       "      <td>13</td>\n",
       "    </tr>\n",
       "    <tr>\n",
       "      <th>2</th>\n",
       "      <td>Miss</td>\n",
       "      <td>16</td>\n",
       "    </tr>\n",
       "    <tr>\n",
       "      <th>3</th>\n",
       "      <td>Mr</td>\n",
       "      <td>19</td>\n",
       "    </tr>\n",
       "    <tr>\n",
       "      <th>4</th>\n",
       "      <td>Mrs</td>\n",
       "      <td>20</td>\n",
       "    </tr>\n",
       "  </tbody>\n",
       "</table>\n",
       "</div>"
      ],
      "text/plain": [
       "    title  titles\n",
       "0    Miss      16\n",
       "1  Master      13\n",
       "2    Miss      16\n",
       "3      Mr      19\n",
       "4     Mrs      20"
      ]
     },
     "execution_count": 16,
     "metadata": {},
     "output_type": "execute_result"
    }
   ],
   "source": [
    "encoder = LabelEncoder()\n",
    "encoder.fit(titanic.title)\n",
    "titanic['titles'] = encoder.transform(titanic.title)\n",
    "titanic.loc[:, ['title', 'titles']].head()"
   ]
  },
  {
   "cell_type": "code",
   "execution_count": 22,
   "id": "23217eed-cdaf-49e7-85ee-7ada2db85eb9",
   "metadata": {},
   "outputs": [],
   "source": [
    "# 분석에 사용할 컬럼 선택\n",
    "data = titanic.loc[:, ['titles', 'age', 'sibsp', 'parch', 'fare', 'gender', 'embark_town', 'pclass','survived']]\n",
    "target = titanic.survived  # 1:live, 0:dead"
   ]
  },
  {
   "cell_type": "code",
   "execution_count": 23,
   "id": "e203cf83-7f31-42df-b568-2e2c957adb03",
   "metadata": {},
   "outputs": [],
   "source": [
    "# 작업결과 파일로 저장\n",
    "result = titanic.loc[:, ['titles', 'age', 'sibsp', 'parch', 'fare', 'gender','embark_town','pclass','survived']]\n",
    "result.to_csv('titanic3.csv',index=False)"
   ]
  },
  {
   "cell_type": "markdown",
   "id": "b1b20194-a87b-4106-8b10-30b37abf39cc",
   "metadata": {},
   "source": [
    "#### 탐색적 분석"
   ]
  },
  {
   "cell_type": "code",
   "execution_count": null,
   "id": "4cab5e91-acd2-4c97-be68-95622a8ff732",
   "metadata": {},
   "outputs": [],
   "source": []
  },
  {
   "cell_type": "code",
   "execution_count": null,
   "id": "43de44fc-9b71-49ee-8212-f0156e13b92d",
   "metadata": {},
   "outputs": [],
   "source": []
  }
 ],
 "metadata": {
  "kernelspec": {
   "display_name": "Python 3 (ipykernel)",
   "language": "python",
   "name": "python3"
  },
  "language_info": {
   "codemirror_mode": {
    "name": "ipython",
    "version": 3
   },
   "file_extension": ".py",
   "mimetype": "text/x-python",
   "name": "python",
   "nbconvert_exporter": "python",
   "pygments_lexer": "ipython3",
   "version": "3.11.4"
  }
 },
 "nbformat": 4,
 "nbformat_minor": 5
}
