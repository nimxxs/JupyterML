{
 "cells": [
  {
   "cell_type": "markdown",
   "id": "75344f08-0c05-4296-9baf-a81ceb4e9dea",
   "metadata": {},
   "source": [
    "## 나이브 베이즈 분석\n",
    "* 조건부확률이 이용한 확률 기반 머신러닝 분류 알고리즘   \n",
    "* 주사위를 굴려 짝수눈이 나올 확률P은? \n",
    "    + 어떤 사건의 확률P = 원하는 결과수 / 가능한 결과수\n",
    "    + 모든 실험의 결과가 동일한 가능성을 가진다고 가정함\n",
    "    + 이를 **고전적확률**이라 함\n",
    "    + 상호배타적, 덧셈법칙, 여의법칙,덧셈의 일반법칙,곱셈법칙(독립사건),조건부확률\n",
    "* 동전을 100회 던졌을때 앞면이 나오는 횟수는?\n",
    "    + 전통적 확률에서는 **일어난횟수/전체시도횟수**로 계산\n",
    "    + 이를 **경험적확률**이라 함 - 일정한 확률로 반복시행\n",
    "    + 시행횟수가 충분히 했을때 어떤 사건이 일어나는 상대적 횟수는 일정한 패턴을 보인다는 의미\n",
    "    + 대수의 법칙    \n",
    "* 만일, A 라는 도시에 수지가 태어난 경우, 이 아이가 노벨상을 받을 확률은 얼마나 될까?\n",
    "    + 이것을 경험적 확률로 계산하려면 \n",
    "    + 이 아이를 여러 명 살게하고 그 중 몇명이 노벨상을 받는지 평가해보면 됨\n",
    "    + 문제는 동일한 유전자, 환경에 자란 아이를 만들수 있는가 임\n",
    "* 이러한 상황에서는 **베이즈 확률론**을 이용한다\n",
    "    + 활용 가능한 정보에 기초해서 어떤 개인이 결정한 특정 사건이 발생할 가능성(확률) \n",
    "    + 일어나지 않은일에 대한 확률을 불확실성이라는 개념으로 이야기 함\n",
    "    + 즉, 이 사건과 관련된 여러가지 확률을 이용해서 새롭게 일어날 수 있는 사건에 대해 추정하는 것\n",
    "    + 이를 **주관적확률**이라 함\n",
    "    + 베이즈 정리, 사전확률, 사후확률 - 나이브 베이즈"
   ]
  },
  {
   "cell_type": "markdown",
   "id": "b6ef03e1-b7e1-46a0-8c15-1eefad5ab0c7",
   "metadata": {},
   "source": [
    "## 중요 확률 개념\n",
    "* 조건부 확률\n",
    "    + 어떤 사건 B가 일어났을 때 사건 A가 일어날 확률을 의미\n",
    "    + $ P(A|B) = \\frac {P(A \\cap B)} {P(B)} $\n",
    "* 확률의 곱셈법칙\n",
    "    + 두 가지 이상의 사건이 동시에 발생하는 확률\n",
    "    + 사건 A,B가 동시에 일어날 확률은 사건 A 발생 확률과 사건 B 발생 확률을 곱한 것과 같음\n",
    "    + $ P(A ∩ B) = P(A|B)P(B) = P(B|A)P(A) $\n",
    "* 전체 확률의 법칙\n",
    "    + 나중에 주어지는 사건 X의 확률은 그 사건의 원인을 여러가지로 나누어서,\n",
    "    + 각 원인에 대한 조건부 확률 P(X|Y)과 그 원인이 되는 확률 P(Y)의 곱에 의한\n",
    "    + 가중합으로 구할 수 있음을 말함\n",
    "    + $ P(A) = P(A ∩ B_1) + P(A ∩ B_2) + ... $"
   ]
  },
  {
   "cell_type": "markdown",
   "id": "41d35c44-845a-4202-965c-cbcc311d4ba7",
   "metadata": {},
   "source": [
    "## 베이즈 이론\n",
    "* 18세기 영국 장로교 목사였던 토마스 베이즈는 신이 실제로 존재하는가에 대한 문제로 고심\n",
    "    + 수학에 관심이 있었기 때문에 지구상의 모든 증거를 이용해서 신이 존재할 확률을 계산하는 공식을 개발하려 함\n",
    "    + 후에 베이즈의 업적을 정리해서 나온 결과물\n",
    "* 이전의 경험과 현재의 증거를 토대로 어떤 사건의 확률을 추론\n",
    "* 확률 $P(A|B)$를 알고 있을 때, 관계가 정반대인 확률 $P(B|A)$를 계산\n",
    "* $ P(A|B) = P(A) \\cdot \\frac {P(B|A)} {P(B)} $\n",
    "    + $P(A)$ : $A$의 사전확률 - 현재의 증거\n",
    "    + $P(B)$ : $B$의 사전확률 - 과거의 경험\n",
    "    + $P(A|B)$ : 사건 $B$가 주어졌을때 $A$의 조건부 확률\n",
    "        - 알려진 결과에 기초한 어떤 가설에 대한 가능성\n",
    "    + $P(B|A)$ : 사건 $A$라는 증거에 대한 사후 확률\n",
    "        - 사건 $A$가 일어났다는 것을 알고 그것이 사건 $B$로 부터 일어난 것이라고 생각되는 조건부 확률\n",
    "* $ P(A|B) = \\frac {P(B \\cap A)} {P(B)} = \\frac {P(B|A)P(A)} {P(B)} =  \n",
    "             \\frac {P(B|A)P(A)} {P(A ∩ B) + P(\\sim A ∩ B)}  $"
   ]
  },
  {
   "cell_type": "markdown",
   "id": "d010e077-a19f-4dea-84a5-dcf680b876d5",
   "metadata": {},
   "source": [
    "## 베이즈 정리\n",
    "* experience base prediction\n",
    "* 이전의 경험과 현재의 증거를 토대로 어떤 사건의 확률을 추론하는 알고리즘\n",
    "* 따라서, 사건이 일어날 확률을 토대로 의사결정을 하는 경우, 그와 관련된 사전정보를 얼마나\n",
    "알고 있나에 따라 크게 좌우\n",
    "* 기하학 : 피타고라스 정리 = 확률학 : 베이즈 정리"
   ]
  },
  {
   "cell_type": "markdown",
   "id": "4daf3e6b-a413-403b-99df-6e65c1948888",
   "metadata": {},
   "source": [
    "## 베이즈 정리에 대한 예제\n",
    "* 삼키기 어려울 정도의 목에 통증 유발 - 인후염\n",
    "* 병원 방문후 검사(정확도 90%) 시행 \n",
    "    + 결과 : 양성(폐암)\n",
    "* 의사 : 이 결과로 폐암일 확률은 10%도 안될 수 있음\n",
    "    + 폐암에 걸린 남성은 성인 남성 1% 정도\n",
    "* 환자 : 그래도 걱정이 되니 추가 검사 시행 - 음성(!)\n",
    "* 베이즈 정리에 근거, 실제 검사에서 양성이 나왔을때 진짜 폐암에 걸릴 확률은 ???"
   ]
  },
  {
   "cell_type": "markdown",
   "id": "398d7592-0c53-4e5d-baef-7c7fc6ddf710",
   "metadata": {},
   "source": [
    "* 베이즈 정리 : P(A|B) = P(A)P(B|A)/P(B)\n",
    "* 조건부확률 : P(A ∩ B) = P(A)P(B|A) = P(B)P(A|B)\n",
    "    + 따라서, P(A|B) = P(A ∩ B)/P(B)로 도출가능\n",
    "    + 결론적으로 P(A|B) = P(B)P(A|B)/P(B)로도 사용가능\n",
    "* 양성일때 폐암일 확률 = \n",
    "    + P(폐암|양성) = P(폐암∩양성) / P(양성) = P(폐암)P(양성|폐암) / P(양성)\n",
    "* 폐암일때 양성일 확률 \n",
    "    + P(양성|폐암) = P(양성∩폐암) / P(폐암) = P(양성)P(폐암|양성) / P(폐암)"
   ]
  },
  {
   "cell_type": "markdown",
   "id": "9652063a-1154-42f4-9be4-63117d73bb26",
   "metadata": {},
   "source": [
    "* 정확도 90% 검사로, 양성일때 폐암일 확률은? P(폐암|양성) = 0.9\n",
    "* 성인 남성이 폐암에 걸릴 확률은? P(폐암) = 0.01\n",
    "* 양성일 확률은? P(양성)\n",
    "    + 베이즈 정리와 전체 확률의 법칙을 이용\n",
    "    + **폐암이고, 검사로도 진짜 양성**일 확률과\n",
    "    + **폐암이 아닌데, 검사로 양성**일 확률을 더한 확률\n",
    "    + P(양성|폐암)P(폐암) + P(양성|1-폐암)P(1-폐암)\n",
    "    + = 0.9  0.01 + 0.1  0.99 = 0.10791 = 0.108 = 11%\n",
    "    + 따라서, P(폐암|양성) = P(폐암)P(양성|폐암) / P(양성) \n",
    "    + = (0.01 * 0.9) / 0.108 = 0.083 = 8.3% (별거아님)"
   ]
  },
  {
   "cell_type": "markdown",
   "id": "3186b04a-6b1d-4376-9f72-4889e5b7d847",
   "metadata": {},
   "source": [
    "* 시간이 지나 다시 목이 아프고 숨을 쉬기 어려워서 다시 병원에 감\n",
    "* 다시 검사(정확도99%) 해보니 역시 양성\n",
    "    + 예전 경험에 비춰 별거 아니라고 생각\n",
    "* 의사는 폐암에 걸릴 확률이 50%로 증가\n",
    "    + 절대 심각할 수 있다고 경고\n",
    "    + P(양성|폐암)P(폐암) + P(양성|1-폐암)P(1-폐암)\n",
    "    + = (0.99 * 0.01) + (0.01 * 0.99) = 0.0197\n",
    "    + 따라서, P(폐암|양성) = P(폐암)P(양성|폐암) / P(양성) \n",
    "    + = (0.01 * 0.99) / 0.0197 = 0.503 = 50% (심각함)"
   ]
  },
  {
   "cell_type": "markdown",
   "id": "3d22a22d-6d95-4f1a-a3f5-4cfb9f90be60",
   "metadata": {},
   "source": [
    "## 나이브베이즈 예제\n",
    "* 나이브 베이즈에서 `나이브naive`는 `단순한` 이란 뜻으로 `모든 변수가 서로 독립이라고 가정하고 확률을 계산`함\n",
    "* 사후확률값 자체를 아는 것이 중요한 것이 아니고 <br> 각각의 사후확률의 크기를 비교하는 것 만으로도 충분하기 때문에 **수식의 분모는 상수처럼 취급**함\n",
    "* 각 변수의 상호작용을 고려해서 확률을 구하려면 수식이 상당히 복잡해짐\n",
    "* 각 변수를 독립사건처럼 단순화함으로써 **수식이 단순해지는 효과**를 얻을 수 있음"
   ]
  },
  {
   "cell_type": "markdown",
   "id": "7fdc41eb-5ffc-4711-af05-c8a1b46f3327",
   "metadata": {},
   "source": [
    "### 집 없고 결혼했고 회사경력 3년인 밥은 연체할 것인가?\n",
    "<img src='../img/loan.png' width='80%'>"
   ]
  },
  {
   "cell_type": "code",
   "execution_count": null,
   "id": "213189f4-e5eb-4fe9-b00e-e2e2224a9c0e",
   "metadata": {},
   "outputs": [],
   "source": [
    "# 집 없고 결혼 했고 회사경력 3년\n",
    "# P(A|B) = P(A)P(B|A) / P(B)\n",
    "#   = P(연체|집,결혼,경력)\n",
    "#   = P(연체|집) * P(연체|결혼) * P(연체|경력)\n",
    "#   = P(연체)*P(집|연체)/P(집) *\n",
    "#     P(연체)*P(결혼|연체)/P(결혼) *\n",
    "#     P(연체)*P(경력|연체)/P(경력)\n",
    "#   = P(연체)*P(집|연체) * P(연체)*P(결혼|연체) * P(연체)*P(경력|연체)"
   ]
  },
  {
   "cell_type": "markdown",
   "id": "e9748d78-baeb-4154-9868-32093dc29eb0",
   "metadata": {},
   "source": [
    "### 밥이 연체할 확률\n",
    "* $ P(A|B) = P(A)P(B|A) / P(B) =  P(A)P(B|A)$\n",
    "* $ P(B) = $ 집, 결혼, 경력\n",
    "* $ P(A) = $ 연체여부"
   ]
  },
  {
   "cell_type": "code",
   "execution_count": 1,
   "id": "5abc9346-f5d2-4e63-9662-32257693e5c4",
   "metadata": {},
   "outputs": [
    {
     "data": {
      "text/plain": [
       "0.022222222222222223"
      ]
     },
     "execution_count": 1,
     "metadata": {},
     "output_type": "execute_result"
    }
   ],
   "source": [
    "# P(A) = P(A, Yes) = 3/10\n",
    "# P(B) = P(집, 결혼, 경력) = P(집) * P(결혼) * P(경력)\n",
    "# P(집) = P(집없음|Yes) = 2/3 \n",
    "# P(결혼) = P(결혼안함|Yes) = 1/3 \n",
    "# P(경력) = P(경력=3|Yes) = 1/3 \n",
    "# 따라서, P(연체Y|집N, 결혼Y, 경력3) = 3/10 * 2/3 * 1/3 * 1/3\n",
    "3/10 * 2/3 * 1/3 * 1/3"
   ]
  },
  {
   "cell_type": "markdown",
   "id": "aa25da5e-7c09-48e5-8147-25fc8dbd4cef",
   "metadata": {},
   "source": [
    "### 밥이 연체 안할 확률"
   ]
  },
  {
   "cell_type": "code",
   "execution_count": 2,
   "id": "24233d9f-5655-49de-b7b1-813aa60528a1",
   "metadata": {},
   "outputs": [
    {
     "data": {
      "text/plain": [
       "0.06530612244897958"
      ]
     },
     "execution_count": 2,
     "metadata": {},
     "output_type": "execute_result"
    }
   ],
   "source": [
    "# P(A) = P(A, No) = 7/10\n",
    "# P(B) = P(집, 결혼, 경력) = P(집) * P(결혼) * P(경력)\n",
    "# P(집) = P(집없음|No) = 4/7\n",
    "# P(결혼) = P(결혼안함|No) = 4/7 \n",
    "# P(경력) = P(경력=3|No) = 2/7 \n",
    "# 따라서, P(연체Y|집N, 결혼Y, 경력3) = 7/10 * 4/7 * 4/7 * 2/7\n",
    "7/10 * 4/7 * 4/7 * 2/7"
   ]
  },
  {
   "cell_type": "code",
   "execution_count": null,
   "id": "a3c5151a-157f-4575-a9ac-195646751981",
   "metadata": {},
   "outputs": [],
   "source": [
    "# 따라서, 밥은 연체하지 않음 (Y:0.022 vs N:0.065)"
   ]
  },
  {
   "cell_type": "markdown",
   "id": "a5f49d9f-8392-4437-950a-f9b655b0189e",
   "metadata": {},
   "source": [
    "### 연체여부를 나이브베이즈로 풀기\n",
    "* sklearn에서 구현된 나이브베이즈 알고리즘은 3가지\n",
    "    + GaussianNB      : 연속형 데이터\n",
    "    + BernoulliNB     : 이진 데이터, 예/아니오\n",
    "    + MultinomialNB   : 텍스트 데이터, 다항"
   ]
  },
  {
   "cell_type": "code",
   "execution_count": 3,
   "id": "647f7cfc-84d0-4229-b9c6-cb70588aa95b",
   "metadata": {},
   "outputs": [],
   "source": [
    "import numpy as np\n",
    "import pandas as pd\n",
    "import seaborn as sns\n",
    "import matplotlib.pyplot as plt"
   ]
  },
  {
   "cell_type": "code",
   "execution_count": 4,
   "id": "da9332e1-41bc-42bd-badb-c2394f42c7aa",
   "metadata": {},
   "outputs": [],
   "source": [
    "from sklearn.model_selection import train_test_split\n",
    "from sklearn.naive_bayes import BernoulliNB, MultinomialNB\n",
    "\n",
    "from sklearn.metrics import confusion_matrix\n",
    "from sklearn.metrics import accuracy_score\n",
    "from sklearn.metrics import recall_score\n",
    "from sklearn.metrics import precision_score\n",
    "\n",
    "from sklearn.metrics import roc_curve\n",
    "from sklearn.metrics import roc_auc_score"
   ]
  },
  {
   "cell_type": "code",
   "execution_count": 5,
   "id": "f2dc80ab-4deb-4728-918d-18a8d6240943",
   "metadata": {},
   "outputs": [
    {
     "data": {
      "text/html": [
       "<div>\n",
       "<style scoped>\n",
       "    .dataframe tbody tr th:only-of-type {\n",
       "        vertical-align: middle;\n",
       "    }\n",
       "\n",
       "    .dataframe tbody tr th {\n",
       "        vertical-align: top;\n",
       "    }\n",
       "\n",
       "    .dataframe thead th {\n",
       "        text-align: right;\n",
       "    }\n",
       "</style>\n",
       "<table border=\"1\" class=\"dataframe\">\n",
       "  <thead>\n",
       "    <tr style=\"text-align: right;\">\n",
       "      <th></th>\n",
       "      <th>owner</th>\n",
       "      <th>marital</th>\n",
       "      <th>expenence</th>\n",
       "      <th>defaulted</th>\n",
       "    </tr>\n",
       "  </thead>\n",
       "  <tbody>\n",
       "    <tr>\n",
       "      <th>0</th>\n",
       "      <td>Yes</td>\n",
       "      <td>Single</td>\n",
       "      <td>3</td>\n",
       "      <td>No</td>\n",
       "    </tr>\n",
       "    <tr>\n",
       "      <th>1</th>\n",
       "      <td>No</td>\n",
       "      <td>Married</td>\n",
       "      <td>4</td>\n",
       "      <td>No</td>\n",
       "    </tr>\n",
       "    <tr>\n",
       "      <th>2</th>\n",
       "      <td>No</td>\n",
       "      <td>SingIe</td>\n",
       "      <td>5</td>\n",
       "      <td>No</td>\n",
       "    </tr>\n",
       "    <tr>\n",
       "      <th>3</th>\n",
       "      <td>Yes</td>\n",
       "      <td>Married</td>\n",
       "      <td>6</td>\n",
       "      <td>No</td>\n",
       "    </tr>\n",
       "    <tr>\n",
       "      <th>4</th>\n",
       "      <td>No</td>\n",
       "      <td>Divorced</td>\n",
       "      <td>2</td>\n",
       "      <td>Yes</td>\n",
       "    </tr>\n",
       "    <tr>\n",
       "      <th>5</th>\n",
       "      <td>No</td>\n",
       "      <td>Married</td>\n",
       "      <td>4</td>\n",
       "      <td>No</td>\n",
       "    </tr>\n",
       "    <tr>\n",
       "      <th>6</th>\n",
       "      <td>Yes</td>\n",
       "      <td>Divorced</td>\n",
       "      <td>2</td>\n",
       "      <td>No</td>\n",
       "    </tr>\n",
       "    <tr>\n",
       "      <th>7</th>\n",
       "      <td>No</td>\n",
       "      <td>Married</td>\n",
       "      <td>3</td>\n",
       "      <td>Yes</td>\n",
       "    </tr>\n",
       "    <tr>\n",
       "      <th>8</th>\n",
       "      <td>No</td>\n",
       "      <td>Married</td>\n",
       "      <td>3</td>\n",
       "      <td>No</td>\n",
       "    </tr>\n",
       "    <tr>\n",
       "      <th>9</th>\n",
       "      <td>Yes</td>\n",
       "      <td>Single</td>\n",
       "      <td>2</td>\n",
       "      <td>Yes</td>\n",
       "    </tr>\n",
       "  </tbody>\n",
       "</table>\n",
       "</div>"
      ],
      "text/plain": [
       "  owner   marital  expenence defaulted\n",
       "0   Yes    Single          3        No\n",
       "1    No   Married          4        No\n",
       "2    No    SingIe          5        No\n",
       "3   Yes   Married          6        No\n",
       "4    No  Divorced          2       Yes\n",
       "5    No   Married          4        No\n",
       "6   Yes  Divorced          2        No\n",
       "7    No   Married          3       Yes\n",
       "8    No   Married          3        No\n",
       "9   Yes    Single          2       Yes"
      ]
     },
     "execution_count": 5,
     "metadata": {},
     "output_type": "execute_result"
    }
   ],
   "source": [
    "loans = pd.read_csv('data/loans.csv')\n",
    "loans"
   ]
  },
  {
   "cell_type": "code",
   "execution_count": 6,
   "id": "76887d75-c993-48bd-b7c0-53d75a174dc2",
   "metadata": {},
   "outputs": [
    {
     "data": {
      "text/html": [
       "<div>\n",
       "<style scoped>\n",
       "    .dataframe tbody tr th:only-of-type {\n",
       "        vertical-align: middle;\n",
       "    }\n",
       "\n",
       "    .dataframe tbody tr th {\n",
       "        vertical-align: top;\n",
       "    }\n",
       "\n",
       "    .dataframe thead th {\n",
       "        text-align: right;\n",
       "    }\n",
       "</style>\n",
       "<table border=\"1\" class=\"dataframe\">\n",
       "  <thead>\n",
       "    <tr style=\"text-align: right;\">\n",
       "      <th></th>\n",
       "      <th>owner</th>\n",
       "      <th>marital</th>\n",
       "      <th>expenence</th>\n",
       "      <th>defaulted</th>\n",
       "    </tr>\n",
       "  </thead>\n",
       "  <tbody>\n",
       "    <tr>\n",
       "      <th>0</th>\n",
       "      <td>1</td>\n",
       "      <td>3</td>\n",
       "      <td>3</td>\n",
       "      <td>0</td>\n",
       "    </tr>\n",
       "    <tr>\n",
       "      <th>1</th>\n",
       "      <td>0</td>\n",
       "      <td>1</td>\n",
       "      <td>4</td>\n",
       "      <td>0</td>\n",
       "    </tr>\n",
       "    <tr>\n",
       "      <th>2</th>\n",
       "      <td>0</td>\n",
       "      <td>2</td>\n",
       "      <td>5</td>\n",
       "      <td>0</td>\n",
       "    </tr>\n",
       "    <tr>\n",
       "      <th>3</th>\n",
       "      <td>1</td>\n",
       "      <td>1</td>\n",
       "      <td>6</td>\n",
       "      <td>0</td>\n",
       "    </tr>\n",
       "    <tr>\n",
       "      <th>4</th>\n",
       "      <td>0</td>\n",
       "      <td>0</td>\n",
       "      <td>2</td>\n",
       "      <td>1</td>\n",
       "    </tr>\n",
       "  </tbody>\n",
       "</table>\n",
       "</div>"
      ],
      "text/plain": [
       "   owner  marital  expenence  defaulted\n",
       "0      1        3          3          0\n",
       "1      0        1          4          0\n",
       "2      0        2          5          0\n",
       "3      1        1          6          0\n",
       "4      0        0          2          1"
      ]
     },
     "execution_count": 6,
     "metadata": {},
     "output_type": "execute_result"
    }
   ],
   "source": [
    "cols = ['owner','marital','defaulted']\n",
    "\n",
    "for col in cols:\n",
    "    loans[col] = pd.Categorical(loans[col])\n",
    "    loans[col] = loans[col].cat.codes\n",
    "loans.head()"
   ]
  },
  {
   "cell_type": "code",
   "execution_count": 8,
   "id": "5e7f7c0b-6eb2-4f42-bf50-bd50990cf4cb",
   "metadata": {},
   "outputs": [
    {
     "data": {
      "text/plain": [
       "0.7"
      ]
     },
     "execution_count": 8,
     "metadata": {},
     "output_type": "execute_result"
    }
   ],
   "source": [
    "data = loans.iloc[:, :3]\n",
    "target = loans.defaulted\n",
    "\n",
    "nbclf = BernoulliNB()\n",
    "nbclf.fit(data.to_numpy(), target)\n",
    "nbclf.score(data.to_numpy(), target)"
   ]
  },
  {
   "cell_type": "code",
   "execution_count": 9,
   "id": "d4ec0b6a-2108-4eae-a94f-ca8bc1c21625",
   "metadata": {},
   "outputs": [
    {
     "data": {
      "text/plain": [
       "array([0], dtype=int8)"
      ]
     },
     "execution_count": 9,
     "metadata": {},
     "output_type": "execute_result"
    }
   ],
   "source": [
    "# 예측하기\n",
    "info = np.array([[0, 1, 1]])\n",
    "\n",
    "nbclf.predict(info)"
   ]
  },
  {
   "cell_type": "markdown",
   "id": "2beef215-7797-4f7d-8993-92b23f99d1a9",
   "metadata": {},
   "source": [
    "## 영화마케팅 문제를 나이즈베이즈로 분석\n",
    "* 영화관객의 성향을 설문조사로 정리\n",
    "* 관객의 속성으로 영화취향을 파악해 봄\n",
    "* '20대, 여, IT, 미혼, 애인없음 고객의 추천 영화장르는?'"
   ]
  },
  {
   "cell_type": "code",
   "execution_count": 35,
   "id": "33845f57-c474-4b5a-a0b3-461f4e46fdfd",
   "metadata": {},
   "outputs": [
    {
     "data": {
      "text/html": [
       "<div>\n",
       "<style scoped>\n",
       "    .dataframe tbody tr th:only-of-type {\n",
       "        vertical-align: middle;\n",
       "    }\n",
       "\n",
       "    .dataframe tbody tr th {\n",
       "        vertical-align: top;\n",
       "    }\n",
       "\n",
       "    .dataframe thead th {\n",
       "        text-align: right;\n",
       "    }\n",
       "</style>\n",
       "<table border=\"1\" class=\"dataframe\">\n",
       "  <thead>\n",
       "    <tr style=\"text-align: right;\">\n",
       "      <th></th>\n",
       "      <th>나이</th>\n",
       "      <th>성별</th>\n",
       "      <th>직업</th>\n",
       "      <th>결혼여부</th>\n",
       "      <th>이성친구</th>\n",
       "      <th>장르</th>\n",
       "    </tr>\n",
       "  </thead>\n",
       "  <tbody>\n",
       "    <tr>\n",
       "      <th>0</th>\n",
       "      <td>20대</td>\n",
       "      <td>여</td>\n",
       "      <td>디자이너</td>\n",
       "      <td>NO</td>\n",
       "      <td>YES</td>\n",
       "      <td>로맨틱</td>\n",
       "    </tr>\n",
       "    <tr>\n",
       "      <th>1</th>\n",
       "      <td>40대</td>\n",
       "      <td>남</td>\n",
       "      <td>홍보/마케팅</td>\n",
       "      <td>NO</td>\n",
       "      <td>NO</td>\n",
       "      <td>공포</td>\n",
       "    </tr>\n",
       "    <tr>\n",
       "      <th>2</th>\n",
       "      <td>10대</td>\n",
       "      <td>여</td>\n",
       "      <td>홍보/마케팅</td>\n",
       "      <td>NO</td>\n",
       "      <td>YES</td>\n",
       "      <td>로맨틱</td>\n",
       "    </tr>\n",
       "    <tr>\n",
       "      <th>3</th>\n",
       "      <td>20대</td>\n",
       "      <td>여</td>\n",
       "      <td>디자이너</td>\n",
       "      <td>YES</td>\n",
       "      <td>NO</td>\n",
       "      <td>로맨틱</td>\n",
       "    </tr>\n",
       "    <tr>\n",
       "      <th>4</th>\n",
       "      <td>10대</td>\n",
       "      <td>남</td>\n",
       "      <td>학생</td>\n",
       "      <td>NO</td>\n",
       "      <td>NO</td>\n",
       "      <td>액션</td>\n",
       "    </tr>\n",
       "  </tbody>\n",
       "</table>\n",
       "</div>"
      ],
      "text/plain": [
       "    나이 성별      직업 결혼여부 이성친구   장르\n",
       "0  20대  여    디자이너   NO  YES  로맨틱\n",
       "1  40대  남  홍보/마케팅   NO   NO   공포\n",
       "2  10대  여  홍보/마케팅   NO  YES  로맨틱\n",
       "3  20대  여    디자이너  YES   NO  로맨틱\n",
       "4  10대  남      학생   NO   NO   액션"
      ]
     },
     "execution_count": 35,
     "metadata": {},
     "output_type": "execute_result"
    }
   ],
   "source": [
    "movie = pd.read_csv('./data/movie.csv', encoding='euc-kr')\n",
    "movie.head()"
   ]
  },
  {
   "cell_type": "code",
   "execution_count": 36,
   "id": "7f9d524b-9f2e-4b13-a602-3151c7cadb21",
   "metadata": {},
   "outputs": [
    {
     "name": "stdout",
     "output_type": "stream",
     "text": [
      "<class 'pandas.core.frame.DataFrame'>\n",
      "RangeIndex: 39 entries, 0 to 38\n",
      "Data columns (total 6 columns):\n",
      " #   Column  Non-Null Count  Dtype \n",
      "---  ------  --------------  ----- \n",
      " 0   나이      39 non-null     object\n",
      " 1   성별      39 non-null     object\n",
      " 2   직업      39 non-null     object\n",
      " 3   결혼여부    39 non-null     object\n",
      " 4   이성친구    39 non-null     object\n",
      " 5   장르      39 non-null     object\n",
      "dtypes: object(6)\n",
      "memory usage: 2.0+ KB\n"
     ]
    }
   ],
   "source": [
    "movie.info()"
   ]
  },
  {
   "cell_type": "code",
   "execution_count": 37,
   "id": "db7fb992-084a-4964-a184-ef5d815691bc",
   "metadata": {},
   "outputs": [
    {
     "data": {
      "text/plain": [
       "장르\n",
       "로맨틱     9\n",
       "공포      5\n",
       "액션      5\n",
       "에스에프    5\n",
       "스릴러     5\n",
       "코미디     5\n",
       "무협      5\n",
       "Name: count, dtype: int64"
      ]
     },
     "execution_count": 37,
     "metadata": {},
     "output_type": "execute_result"
    }
   ],
   "source": [
    "movie.장르.value_counts()"
   ]
  },
  {
   "cell_type": "code",
   "execution_count": 38,
   "id": "a00b89e4-55bb-4a1b-b3a4-2235520d318e",
   "metadata": {},
   "outputs": [
    {
     "data": {
      "text/html": [
       "<div>\n",
       "<style scoped>\n",
       "    .dataframe tbody tr th:only-of-type {\n",
       "        vertical-align: middle;\n",
       "    }\n",
       "\n",
       "    .dataframe tbody tr th {\n",
       "        vertical-align: top;\n",
       "    }\n",
       "\n",
       "    .dataframe thead th {\n",
       "        text-align: right;\n",
       "    }\n",
       "</style>\n",
       "<table border=\"1\" class=\"dataframe\">\n",
       "  <thead>\n",
       "    <tr style=\"text-align: right;\">\n",
       "      <th></th>\n",
       "      <th>age</th>\n",
       "      <th>gender</th>\n",
       "      <th>job</th>\n",
       "      <th>married</th>\n",
       "      <th>lover</th>\n",
       "      <th>genre</th>\n",
       "    </tr>\n",
       "  </thead>\n",
       "  <tbody>\n",
       "    <tr>\n",
       "      <th>0</th>\n",
       "      <td>1</td>\n",
       "      <td>1</td>\n",
       "      <td>0</td>\n",
       "      <td>0</td>\n",
       "      <td>1</td>\n",
       "      <td>1</td>\n",
       "    </tr>\n",
       "    <tr>\n",
       "      <th>1</th>\n",
       "      <td>3</td>\n",
       "      <td>0</td>\n",
       "      <td>7</td>\n",
       "      <td>0</td>\n",
       "      <td>0</td>\n",
       "      <td>0</td>\n",
       "    </tr>\n",
       "    <tr>\n",
       "      <th>2</th>\n",
       "      <td>0</td>\n",
       "      <td>1</td>\n",
       "      <td>7</td>\n",
       "      <td>0</td>\n",
       "      <td>1</td>\n",
       "      <td>1</td>\n",
       "    </tr>\n",
       "    <tr>\n",
       "      <th>3</th>\n",
       "      <td>1</td>\n",
       "      <td>1</td>\n",
       "      <td>0</td>\n",
       "      <td>1</td>\n",
       "      <td>0</td>\n",
       "      <td>1</td>\n",
       "    </tr>\n",
       "    <tr>\n",
       "      <th>4</th>\n",
       "      <td>0</td>\n",
       "      <td>0</td>\n",
       "      <td>6</td>\n",
       "      <td>0</td>\n",
       "      <td>0</td>\n",
       "      <td>4</td>\n",
       "    </tr>\n",
       "  </tbody>\n",
       "</table>\n",
       "</div>"
      ],
      "text/plain": [
       "   age  gender  job  married  lover  genre\n",
       "0    1       1    0        0      1      1\n",
       "1    3       0    7        0      0      0\n",
       "2    0       1    7        0      1      1\n",
       "3    1       1    0        1      0      1\n",
       "4    0       0    6        0      0      4"
      ]
     },
     "execution_count": 38,
     "metadata": {},
     "output_type": "execute_result"
    }
   ],
   "source": [
    "cols = ['나이','성별','직업','결혼여부','이성친구','장르']\n",
    "ncols = ['age','gender','job','married','lover','genre']\n",
    "\n",
    "for col in cols:\n",
    "    movie[col] = pd.Categorical(movie[col])\n",
    "    movie[col] = movie[col].cat.codes\n",
    "movie.columns = ncols\n",
    "movie.head()"
   ]
  },
  {
   "cell_type": "code",
   "execution_count": 39,
   "id": "888a97fc-9c7c-449f-a620-ddc3675f0f8d",
   "metadata": {},
   "outputs": [],
   "source": [
    "data = movie.iloc[:, :5]\n",
    "target = movie.genre"
   ]
  },
  {
   "cell_type": "code",
   "execution_count": 40,
   "id": "cd1ebd41-ca26-4113-8122-9adc60907ec2",
   "metadata": {},
   "outputs": [],
   "source": [
    "X_train, X_test, y_train, y_test= train_test_split(data, target, train_size=0.75,\n",
    "                random_state=2309251755, stratify=target)"
   ]
  },
  {
   "cell_type": "code",
   "execution_count": 49,
   "id": "08b51e3a-5440-4ea0-8f0d-4b4f9b7819a6",
   "metadata": {},
   "outputs": [
    {
     "data": {
      "text/plain": [
       "0.7241379310344828"
      ]
     },
     "execution_count": 49,
     "metadata": {},
     "output_type": "execute_result"
    }
   ],
   "source": [
    "nbclf = MultinomialNB()\n",
    "nbclf.fit(X_train.to_numpy(), y_train)\n",
    "nbclf.score(X_train.to_numpy(), y_train)"
   ]
  },
  {
   "cell_type": "code",
   "execution_count": 53,
   "id": "78a4d5dc-1333-47c5-9418-df471cf0508f",
   "metadata": {},
   "outputs": [
    {
     "data": {
      "text/plain": [
       "0.7"
      ]
     },
     "execution_count": 53,
     "metadata": {},
     "output_type": "execute_result"
    }
   ],
   "source": [
    "pred = nbclf.predict(X_test.to_numpy())\n",
    "accuracy_score(pred, y_test)"
   ]
  },
  {
   "cell_type": "code",
   "execution_count": 51,
   "id": "6df88dbd-4b5a-41c0-80bd-721db0aa2bc7",
   "metadata": {},
   "outputs": [
    {
     "data": {
      "text/plain": [
       "array([1], dtype=int8)"
      ]
     },
     "execution_count": 51,
     "metadata": {},
     "output_type": "execute_result"
    }
   ],
   "source": [
    "# 20대, 여, IT, 미혼, 애인없음 고객의 추천 영화장르는?\n",
    "cust = np.array([[1,1,2,0,0]])\n",
    "\n",
    "nbclf.predict(cust) # 로맨틱"
   ]
  },
  {
   "cell_type": "code",
   "execution_count": 52,
   "id": "5da3e214-74d4-463c-904b-bf880042acc7",
   "metadata": {},
   "outputs": [
    {
     "data": {
      "text/plain": [
       "array([[0.1313744 , 0.27636849, 0.13706764, 0.08426221, 0.03968925,\n",
       "        0.18483261, 0.1464054 ]])"
      ]
     },
     "execution_count": 52,
     "metadata": {},
     "output_type": "execute_result"
    }
   ],
   "source": [
    "nbclf.predict_proba(cust)"
   ]
  }
 ],
 "metadata": {
  "kernelspec": {
   "display_name": "Python 3 (ipykernel)",
   "language": "python",
   "name": "python3"
  },
  "language_info": {
   "codemirror_mode": {
    "name": "ipython",
    "version": 3
   },
   "file_extension": ".py",
   "mimetype": "text/x-python",
   "name": "python",
   "nbconvert_exporter": "python",
   "pygments_lexer": "ipython3",
   "version": "3.11.4"
  }
 },
 "nbformat": 4,
 "nbformat_minor": 5
}
