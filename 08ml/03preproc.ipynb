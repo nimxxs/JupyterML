{
 "cells": [
  {
   "cell_type": "markdown",
   "id": "1658e160-76a1-4aad-9d08-d48a82d0380c",
   "metadata": {},
   "source": [
    "## 데이터 전처리 preprocessing\n",
    "* 머신러닝 알고리즘을 익히는 것 못지않게\n",
    "* 데이터 전처리 역시 중요한 과정 중에 하나\n",
    "* 무엇보다 머신러닝 알고리즘을 적용하기 전에\n",
    "* 데이터에 대해 미리 처리해야 하는 기본사항이 존재\n",
    "* 결측치처리\n",
    "    + NaN, Null은 허용되지 않음 - 제거 또는 대체\n",
    "* 원핫인코딩\n",
    "    + 머신러닝 알고리즘들은 문자열값을 데이터의 입력값으로 허용하지 않음\n",
    "    + 따라서, 모든 문자열은 인코딩해서 숫자형으로 변환해둬야 함\n",
    "    + 한편, 텍스트 데이터는 벡터화해서 처리\n",
    "    + 머신러닝을 위한 인코딩은 레이블인코딩과 원핫인코딩이 있음해서 처리"
   ]
  },
  {
   "cell_type": "markdown",
   "id": "8002bdba-1d2d-47a9-974a-44751a26d7ad",
   "metadata": {},
   "source": [
    "### 레이블 인코딩 label encoding\n",
    "* 범주형 데이터를 숫자형으로 변환"
   ]
  },
  {
   "cell_type": "code",
   "execution_count": 1,
   "id": "f68c671d-27c7-45ac-9b98-c77a122e8d52",
   "metadata": {},
   "outputs": [],
   "source": [
    "from sklearn.preprocessing import LabelEncoder"
   ]
  },
  {
   "cell_type": "code",
   "execution_count": 2,
   "id": "db29b44d-f917-454e-b7cb-414e667365e9",
   "metadata": {},
   "outputs": [],
   "source": [
    "items = ['티비','냉장고','가스렌지','에어콘','컴퓨터']"
   ]
  },
  {
   "cell_type": "code",
   "execution_count": 5,
   "id": "423cd279-0da3-40ec-93cd-b90acb69ef59",
   "metadata": {},
   "outputs": [],
   "source": [
    "encoder = LabelEncoder()\n",
    "encoder.fit(items)\n",
    "labels = encoder.transform(items)"
   ]
  },
  {
   "cell_type": "code",
   "execution_count": 6,
   "id": "959b4d18-f7f4-4e19-b17e-98438dbabd0e",
   "metadata": {},
   "outputs": [
    {
     "data": {
      "text/plain": [
       "array([4, 1, 0, 2, 3])"
      ]
     },
     "execution_count": 6,
     "metadata": {},
     "output_type": "execute_result"
    }
   ],
   "source": [
    "labels"
   ]
  },
  {
   "cell_type": "code",
   "execution_count": 7,
   "id": "2f5b659b-c391-47c2-8df0-7799d4f200c0",
   "metadata": {},
   "outputs": [
    {
     "data": {
      "text/plain": [
       "array(['가스렌지', '냉장고', '에어콘', '컴퓨터', '티비'], dtype='<U4')"
      ]
     },
     "execution_count": 7,
     "metadata": {},
     "output_type": "execute_result"
    }
   ],
   "source": [
    "encoder.classes_"
   ]
  },
  {
   "cell_type": "code",
   "execution_count": 8,
   "id": "a6fa6754-2f2e-4dab-b367-49e694d45f92",
   "metadata": {},
   "outputs": [
    {
     "data": {
      "text/plain": [
       "array(['가스렌지'], dtype='<U4')"
      ]
     },
     "execution_count": 8,
     "metadata": {},
     "output_type": "execute_result"
    }
   ],
   "source": [
    "# 인코딩된 값을 디코딩해서 출력\n",
    "encoder.inverse_transform([0])"
   ]
  },
  {
   "cell_type": "code",
   "execution_count": null,
   "id": "cd9addf6-4371-42d3-9d1b-372a6038be8e",
   "metadata": {},
   "outputs": [],
   "source": [
    "# 문자열값을 숫자형값으로 변환시켰을때\n",
    "# 발생할 수 있는 문제는 각 값의 대소관계를 통해 중요도 여부가 존재할 수 있음\n",
    "\n",
    "# 즉, 인코딩된 값에 서수ordinal척도가 생길 수 있음\n",
    "# 따라서, 대소관계가 있는 데이터를 분석할 경우\n",
    "# 정확도에 영향을 미칠 수 있음 => 원핫인코딩을 사용함으로써 문제 해결"
   ]
  },
  {
   "cell_type": "markdown",
   "id": "a4c933d6-5d1c-4f4f-8f0e-94c0b82f0b4f",
   "metadata": {},
   "source": [
    "### 원핫인코딩 one-hot encoding\n",
    "* 범주값의 유형에 따라 더미변수dummy variable를\n",
    "* 추가해 고유값에 해당하는 컬럼에만 1을 표시하고 나머지는 0으로 표시하는 방식\n",
    "* 즉, 1차원 데이터를 2차원 데이터로 변환해서 인코딩을 시행함"
   ]
  },
  {
   "cell_type": "code",
   "execution_count": null,
   "id": "5d84ff4b-633c-4db2-af73-6a77fef8f24b",
   "metadata": {},
   "outputs": [],
   "source": [
    "# '티비' '냉장고' '가스렌지' '에어콘' '컴퓨터'\n",
    "# 1       0       0           0       0\n",
    "# 0       1       0           0       0\n",
    "# 0       0       1           0       0\n",
    "# 0       0       0           1       0\n",
    "# 0       0       0           0       1"
   ]
  },
  {
   "cell_type": "code",
   "execution_count": 9,
   "id": "6f44adac-ce1f-4de0-8e34-9f17461c0748",
   "metadata": {},
   "outputs": [],
   "source": [
    "# sklearn의 원핫인코딩 API는 사용불편\n",
    "# => 원핫인코딩 변환 전 레이블인코딩이 선행되어야 함\n",
    "\n",
    "# pandas의 원핫인코딩 API가 훨씬 편함\n",
    "# => get_dummies 함수를 이용\n",
    "# 단, 변환대상이 데이터프레임으로 작성되어 있어야 함\n",
    "import pandas as pd"
   ]
  },
  {
   "cell_type": "code",
   "execution_count": 10,
   "id": "d9ad4f36-75a1-4d6b-838f-97bee1689098",
   "metadata": {},
   "outputs": [
    {
     "data": {
      "text/html": [
       "<div>\n",
       "<style scoped>\n",
       "    .dataframe tbody tr th:only-of-type {\n",
       "        vertical-align: middle;\n",
       "    }\n",
       "\n",
       "    .dataframe tbody tr th {\n",
       "        vertical-align: top;\n",
       "    }\n",
       "\n",
       "    .dataframe thead th {\n",
       "        text-align: right;\n",
       "    }\n",
       "</style>\n",
       "<table border=\"1\" class=\"dataframe\">\n",
       "  <thead>\n",
       "    <tr style=\"text-align: right;\">\n",
       "      <th></th>\n",
       "      <th>items</th>\n",
       "    </tr>\n",
       "  </thead>\n",
       "  <tbody>\n",
       "    <tr>\n",
       "      <th>0</th>\n",
       "      <td>티비</td>\n",
       "    </tr>\n",
       "    <tr>\n",
       "      <th>1</th>\n",
       "      <td>냉장고</td>\n",
       "    </tr>\n",
       "    <tr>\n",
       "      <th>2</th>\n",
       "      <td>가스렌지</td>\n",
       "    </tr>\n",
       "    <tr>\n",
       "      <th>3</th>\n",
       "      <td>에어콘</td>\n",
       "    </tr>\n",
       "    <tr>\n",
       "      <th>4</th>\n",
       "      <td>컴퓨터</td>\n",
       "    </tr>\n",
       "  </tbody>\n",
       "</table>\n",
       "</div>"
      ],
      "text/plain": [
       "  items\n",
       "0    티비\n",
       "1   냉장고\n",
       "2  가스렌지\n",
       "3   에어콘\n",
       "4   컴퓨터"
      ]
     },
     "execution_count": 10,
     "metadata": {},
     "output_type": "execute_result"
    }
   ],
   "source": [
    "df = pd.DataFrame({'items':items})\n",
    "df"
   ]
  },
  {
   "cell_type": "code",
   "execution_count": 11,
   "id": "bc7434ba-fad0-4cfc-8417-61a5bf0f89a7",
   "metadata": {},
   "outputs": [
    {
     "data": {
      "text/html": [
       "<div>\n",
       "<style scoped>\n",
       "    .dataframe tbody tr th:only-of-type {\n",
       "        vertical-align: middle;\n",
       "    }\n",
       "\n",
       "    .dataframe tbody tr th {\n",
       "        vertical-align: top;\n",
       "    }\n",
       "\n",
       "    .dataframe thead th {\n",
       "        text-align: right;\n",
       "    }\n",
       "</style>\n",
       "<table border=\"1\" class=\"dataframe\">\n",
       "  <thead>\n",
       "    <tr style=\"text-align: right;\">\n",
       "      <th></th>\n",
       "      <th>items_가스렌지</th>\n",
       "      <th>items_냉장고</th>\n",
       "      <th>items_에어콘</th>\n",
       "      <th>items_컴퓨터</th>\n",
       "      <th>items_티비</th>\n",
       "    </tr>\n",
       "  </thead>\n",
       "  <tbody>\n",
       "    <tr>\n",
       "      <th>0</th>\n",
       "      <td>False</td>\n",
       "      <td>False</td>\n",
       "      <td>False</td>\n",
       "      <td>False</td>\n",
       "      <td>True</td>\n",
       "    </tr>\n",
       "    <tr>\n",
       "      <th>1</th>\n",
       "      <td>False</td>\n",
       "      <td>True</td>\n",
       "      <td>False</td>\n",
       "      <td>False</td>\n",
       "      <td>False</td>\n",
       "    </tr>\n",
       "    <tr>\n",
       "      <th>2</th>\n",
       "      <td>True</td>\n",
       "      <td>False</td>\n",
       "      <td>False</td>\n",
       "      <td>False</td>\n",
       "      <td>False</td>\n",
       "    </tr>\n",
       "    <tr>\n",
       "      <th>3</th>\n",
       "      <td>False</td>\n",
       "      <td>False</td>\n",
       "      <td>True</td>\n",
       "      <td>False</td>\n",
       "      <td>False</td>\n",
       "    </tr>\n",
       "    <tr>\n",
       "      <th>4</th>\n",
       "      <td>False</td>\n",
       "      <td>False</td>\n",
       "      <td>False</td>\n",
       "      <td>True</td>\n",
       "      <td>False</td>\n",
       "    </tr>\n",
       "  </tbody>\n",
       "</table>\n",
       "</div>"
      ],
      "text/plain": [
       "   items_가스렌지  items_냉장고  items_에어콘  items_컴퓨터  items_티비\n",
       "0       False      False      False      False      True\n",
       "1       False       True      False      False     False\n",
       "2        True      False      False      False     False\n",
       "3       False      False       True      False     False\n",
       "4       False      False      False       True     False"
      ]
     },
     "execution_count": 11,
     "metadata": {},
     "output_type": "execute_result"
    }
   ],
   "source": [
    "pd.get_dummies(df)"
   ]
  },
  {
   "cell_type": "markdown",
   "id": "fdf92762-42b4-4d1e-bf23-0790a70248b0",
   "metadata": {},
   "source": [
    "### 단위 맞추기\n",
    "* 특성feature 스케일링과 표준화/정규화\n",
    "    + 서로 다른 범위, 단위의 변수값을 일정수준으로 맞추는 작업을 특성스케일링이라 함\n",
    "* 어떤 데이터의 값이 정수와 실수가 혼용되어 있다든지\n",
    "* 값의 범위가 1 ~ 100, 0 ~ 0.001, 1 ~ 10000 등등의 경우\n",
    "* 데이터 분석시 많은 CPU 파워/메모리가 필요하고\n",
    "* 학습이 느려질수 있으며, 제대로 된 결과가 나오지 않을 수도 있음\n",
    "* 이러한 문제를 해결하는 방법은 `정규화`와 `표준화`가 있음"
   ]
  },
  {
   "cell_type": "code",
   "execution_count": 12,
   "id": "335b3222-4ad2-4fc4-b5f0-088c0279dd56",
   "metadata": {},
   "outputs": [],
   "source": [
    "import seaborn as sns"
   ]
  },
  {
   "cell_type": "code",
   "execution_count": 16,
   "id": "069d20fb-2268-4b41-88f6-31bbc223d0ed",
   "metadata": {},
   "outputs": [
    {
     "data": {
      "text/html": [
       "<div>\n",
       "<style scoped>\n",
       "    .dataframe tbody tr th:only-of-type {\n",
       "        vertical-align: middle;\n",
       "    }\n",
       "\n",
       "    .dataframe tbody tr th {\n",
       "        vertical-align: top;\n",
       "    }\n",
       "\n",
       "    .dataframe thead th {\n",
       "        text-align: right;\n",
       "    }\n",
       "</style>\n",
       "<table border=\"1\" class=\"dataframe\">\n",
       "  <thead>\n",
       "    <tr style=\"text-align: right;\">\n",
       "      <th></th>\n",
       "      <th>age</th>\n",
       "      <th>fare</th>\n",
       "    </tr>\n",
       "  </thead>\n",
       "  <tbody>\n",
       "    <tr>\n",
       "      <th>0</th>\n",
       "      <td>22.0</td>\n",
       "      <td>7.2500</td>\n",
       "    </tr>\n",
       "    <tr>\n",
       "      <th>1</th>\n",
       "      <td>38.0</td>\n",
       "      <td>71.2833</td>\n",
       "    </tr>\n",
       "    <tr>\n",
       "      <th>2</th>\n",
       "      <td>26.0</td>\n",
       "      <td>7.9250</td>\n",
       "    </tr>\n",
       "    <tr>\n",
       "      <th>3</th>\n",
       "      <td>35.0</td>\n",
       "      <td>53.1000</td>\n",
       "    </tr>\n",
       "    <tr>\n",
       "      <th>4</th>\n",
       "      <td>35.0</td>\n",
       "      <td>8.0500</td>\n",
       "    </tr>\n",
       "  </tbody>\n",
       "</table>\n",
       "</div>"
      ],
      "text/plain": [
       "    age     fare\n",
       "0  22.0   7.2500\n",
       "1  38.0  71.2833\n",
       "2  26.0   7.9250\n",
       "3  35.0  53.1000\n",
       "4  35.0   8.0500"
      ]
     },
     "execution_count": 16,
     "metadata": {},
     "output_type": "execute_result"
    }
   ],
   "source": [
    "titanic = sns.load_dataset('titanic')\n",
    "data = titanic.loc[:, ['age', 'fare']]\n",
    "data.head()"
   ]
  },
  {
   "cell_type": "code",
   "execution_count": 17,
   "id": "4af5aae9-7ade-4628-8115-deff8451b8ab",
   "metadata": {},
   "outputs": [
    {
     "data": {
      "text/html": [
       "<div>\n",
       "<style scoped>\n",
       "    .dataframe tbody tr th:only-of-type {\n",
       "        vertical-align: middle;\n",
       "    }\n",
       "\n",
       "    .dataframe tbody tr th {\n",
       "        vertical-align: top;\n",
       "    }\n",
       "\n",
       "    .dataframe thead th {\n",
       "        text-align: right;\n",
       "    }\n",
       "</style>\n",
       "<table border=\"1\" class=\"dataframe\">\n",
       "  <thead>\n",
       "    <tr style=\"text-align: right;\">\n",
       "      <th></th>\n",
       "      <th>age</th>\n",
       "      <th>fare</th>\n",
       "    </tr>\n",
       "  </thead>\n",
       "  <tbody>\n",
       "    <tr>\n",
       "      <th>count</th>\n",
       "      <td>714.000000</td>\n",
       "      <td>891.000000</td>\n",
       "    </tr>\n",
       "    <tr>\n",
       "      <th>mean</th>\n",
       "      <td>29.699118</td>\n",
       "      <td>32.204208</td>\n",
       "    </tr>\n",
       "    <tr>\n",
       "      <th>std</th>\n",
       "      <td>14.526497</td>\n",
       "      <td>49.693429</td>\n",
       "    </tr>\n",
       "    <tr>\n",
       "      <th>min</th>\n",
       "      <td>0.420000</td>\n",
       "      <td>0.000000</td>\n",
       "    </tr>\n",
       "    <tr>\n",
       "      <th>25%</th>\n",
       "      <td>20.125000</td>\n",
       "      <td>7.910400</td>\n",
       "    </tr>\n",
       "    <tr>\n",
       "      <th>50%</th>\n",
       "      <td>28.000000</td>\n",
       "      <td>14.454200</td>\n",
       "    </tr>\n",
       "    <tr>\n",
       "      <th>75%</th>\n",
       "      <td>38.000000</td>\n",
       "      <td>31.000000</td>\n",
       "    </tr>\n",
       "    <tr>\n",
       "      <th>max</th>\n",
       "      <td>80.000000</td>\n",
       "      <td>512.329200</td>\n",
       "    </tr>\n",
       "  </tbody>\n",
       "</table>\n",
       "</div>"
      ],
      "text/plain": [
       "              age        fare\n",
       "count  714.000000  891.000000\n",
       "mean    29.699118   32.204208\n",
       "std     14.526497   49.693429\n",
       "min      0.420000    0.000000\n",
       "25%     20.125000    7.910400\n",
       "50%     28.000000   14.454200\n",
       "75%     38.000000   31.000000\n",
       "max     80.000000  512.329200"
      ]
     },
     "execution_count": 17,
     "metadata": {},
     "output_type": "execute_result"
    }
   ],
   "source": [
    "data.describe()"
   ]
  },
  {
   "cell_type": "markdown",
   "id": "7917d467-7dc8-4aae-9ec4-d67f6d69b56d",
   "metadata": {},
   "source": [
    "### 정규화/표준화 방법\n",
    "* StandardScaler : 평균 0, 표준편차 1로 되도록 변환\n",
    "* MinMaxScaler : 최소값 0, 최대값 1로 되도록 변환\n",
    "    + 단, 이상치에 영향을 받음"
   ]
  },
  {
   "cell_type": "code",
   "execution_count": 20,
   "id": "05a81929-470b-4544-a879-e75af8ebedbe",
   "metadata": {},
   "outputs": [],
   "source": [
    "import numpy as np"
   ]
  },
  {
   "cell_type": "code",
   "execution_count": 29,
   "id": "ba2a8a84-e069-45b3-8203-c7b833eac59a",
   "metadata": {
    "collapsed": true,
    "jupyter": {
     "outputs_hidden": true
    }
   },
   "outputs": [
    {
     "data": {
      "text/html": [
       "<div>\n",
       "<style scoped>\n",
       "    .dataframe tbody tr th:only-of-type {\n",
       "        vertical-align: middle;\n",
       "    }\n",
       "\n",
       "    .dataframe tbody tr th {\n",
       "        vertical-align: top;\n",
       "    }\n",
       "\n",
       "    .dataframe thead th {\n",
       "        text-align: right;\n",
       "    }\n",
       "</style>\n",
       "<table border=\"1\" class=\"dataframe\">\n",
       "  <thead>\n",
       "    <tr style=\"text-align: right;\">\n",
       "      <th></th>\n",
       "      <th>0</th>\n",
       "    </tr>\n",
       "  </thead>\n",
       "  <tbody>\n",
       "    <tr>\n",
       "      <th>count</th>\n",
       "      <td>9.000000</td>\n",
       "    </tr>\n",
       "    <tr>\n",
       "      <th>mean</th>\n",
       "      <td>1.000000</td>\n",
       "    </tr>\n",
       "    <tr>\n",
       "      <th>std</th>\n",
       "      <td>2.738613</td>\n",
       "    </tr>\n",
       "    <tr>\n",
       "      <th>min</th>\n",
       "      <td>-3.000000</td>\n",
       "    </tr>\n",
       "    <tr>\n",
       "      <th>25%</th>\n",
       "      <td>-1.000000</td>\n",
       "    </tr>\n",
       "    <tr>\n",
       "      <th>50%</th>\n",
       "      <td>1.000000</td>\n",
       "    </tr>\n",
       "    <tr>\n",
       "      <th>75%</th>\n",
       "      <td>3.000000</td>\n",
       "    </tr>\n",
       "    <tr>\n",
       "      <th>max</th>\n",
       "      <td>5.000000</td>\n",
       "    </tr>\n",
       "  </tbody>\n",
       "</table>\n",
       "</div>"
      ],
      "text/plain": [
       "              0\n",
       "count  9.000000\n",
       "mean   1.000000\n",
       "std    2.738613\n",
       "min   -3.000000\n",
       "25%   -1.000000\n",
       "50%    1.000000\n",
       "75%    3.000000\n",
       "max    5.000000"
      ]
     },
     "execution_count": 29,
     "metadata": {},
     "output_type": "execute_result"
    }
   ],
   "source": [
    "# 정규화를 위한 데이터 생성\n",
    "X = np.arange(9, dtype=np.float32) - 3\n",
    "X = X.reshape(-1, 1)\n",
    "df = pd.DataFrame(X)\n",
    "df.describe()  # 평균 : 1, 표준편차 : 2.7, 최소 : -3, 최대 : 5"
   ]
  },
  {
   "cell_type": "markdown",
   "id": "d78aae52-3b15-4aa9-8be9-2c2f817803f1",
   "metadata": {},
   "source": [
    "#### StandardScaler 적용"
   ]
  },
  {
   "cell_type": "code",
   "execution_count": 22,
   "id": "4438ddfd-1879-45ea-91d1-90a9228c6aa4",
   "metadata": {},
   "outputs": [],
   "source": [
    "from sklearn.preprocessing import StandardScaler"
   ]
  },
  {
   "cell_type": "code",
   "execution_count": 30,
   "id": "0fb4bd7b-cdbb-444c-9a36-44b0b17a7093",
   "metadata": {},
   "outputs": [],
   "source": [
    "scaler = StandardScaler()\n",
    "scaler.fit(X)\n",
    "x = scaler.transform(X)"
   ]
  },
  {
   "cell_type": "code",
   "execution_count": 31,
   "id": "4474c684-3840-40a4-8351-5ec6f4d85307",
   "metadata": {
    "collapsed": true,
    "jupyter": {
     "outputs_hidden": true
    }
   },
   "outputs": [
    {
     "data": {
      "text/plain": [
       "array([[-1.5491934 ],\n",
       "       [-1.161895  ],\n",
       "       [-0.7745967 ],\n",
       "       [-0.38729835],\n",
       "       [ 0.        ],\n",
       "       [ 0.38729835],\n",
       "       [ 0.7745967 ],\n",
       "       [ 1.161895  ],\n",
       "       [ 1.5491934 ]], dtype=float32)"
      ]
     },
     "execution_count": 31,
     "metadata": {},
     "output_type": "execute_result"
    }
   ],
   "source": [
    "x"
   ]
  },
  {
   "cell_type": "code",
   "execution_count": 33,
   "id": "d0eece93-3f57-46dd-89df-30e0ef63b9e6",
   "metadata": {},
   "outputs": [
    {
     "data": {
      "text/plain": [
       "(0.0, 1.0)"
      ]
     },
     "execution_count": 33,
     "metadata": {},
     "output_type": "execute_result"
    }
   ],
   "source": [
    "np.mean(x), np.std(x)"
   ]
  },
  {
   "cell_type": "markdown",
   "id": "49fb33b0-6fe3-4ef8-b0e0-10fab8a02223",
   "metadata": {},
   "source": [
    "#### MinMaxScaler 적용"
   ]
  },
  {
   "cell_type": "code",
   "execution_count": 35,
   "id": "c015a2be-1445-4d05-a0c7-a308ebdcf473",
   "metadata": {},
   "outputs": [],
   "source": [
    "from sklearn.preprocessing import MinMaxScaler"
   ]
  },
  {
   "cell_type": "code",
   "execution_count": 36,
   "id": "74cba76e-7f12-4277-9bc2-2c5cd55dbc88",
   "metadata": {},
   "outputs": [],
   "source": [
    "scaler = MinMaxScaler()\n",
    "scaler.fit(X)\n",
    "x = scaler.transform(X)"
   ]
  },
  {
   "cell_type": "code",
   "execution_count": 37,
   "id": "6d749fdc-406f-454f-ae90-fb0bae059761",
   "metadata": {},
   "outputs": [
    {
     "data": {
      "text/plain": [
       "array([[0.   ],\n",
       "       [0.125],\n",
       "       [0.25 ],\n",
       "       [0.375],\n",
       "       [0.5  ],\n",
       "       [0.625],\n",
       "       [0.75 ],\n",
       "       [0.875],\n",
       "       [1.   ]], dtype=float32)"
      ]
     },
     "execution_count": 37,
     "metadata": {},
     "output_type": "execute_result"
    }
   ],
   "source": [
    "x"
   ]
  },
  {
   "cell_type": "code",
   "execution_count": 38,
   "id": "232d581c-2f15-4ea3-bef1-47233c7ac963",
   "metadata": {},
   "outputs": [
    {
     "data": {
      "text/plain": [
       "(0.5, 0.3227486)"
      ]
     },
     "execution_count": 38,
     "metadata": {},
     "output_type": "execute_result"
    }
   ],
   "source": [
    "np.mean(x), np.std(x)"
   ]
  },
  {
   "cell_type": "code",
   "execution_count": 39,
   "id": "bd60d1fe-72ae-4369-9121-b6b873033c26",
   "metadata": {},
   "outputs": [
    {
     "data": {
      "text/plain": [
       "(0.0, 1.0)"
      ]
     },
     "execution_count": 39,
     "metadata": {},
     "output_type": "execute_result"
    }
   ],
   "source": [
    "np.min(x), np.max(x)"
   ]
  },
  {
   "cell_type": "markdown",
   "id": "5e58b090-2b7a-4ca5-ab6f-11089dd8ad31",
   "metadata": {},
   "source": [
    "#### 간단한 실험\n",
    "* X는 -3 ~ 5 사이의 값을 가지고 있음\n",
    "* 만약, 이상치 100을 추가한다면?"
   ]
  },
  {
   "cell_type": "code",
   "execution_count": 41,
   "id": "58159c94-a14e-45da-b15f-0138b641540b",
   "metadata": {},
   "outputs": [
    {
     "data": {
      "text/plain": [
       "array([[ -3.],\n",
       "       [ -2.],\n",
       "       [ -1.],\n",
       "       [  0.],\n",
       "       [  1.],\n",
       "       [  2.],\n",
       "       [  3.],\n",
       "       [  4.],\n",
       "       [  5.],\n",
       "       [100.]])"
      ]
     },
     "execution_count": 41,
     "metadata": {},
     "output_type": "execute_result"
    }
   ],
   "source": [
    "X = np.vstack([X, [100]])\n",
    "X"
   ]
  },
  {
   "cell_type": "code",
   "execution_count": 42,
   "id": "effc7bfe-65fe-417b-b687-4a99c7c6d3a9",
   "metadata": {},
   "outputs": [
    {
     "data": {
      "text/plain": [
       "(10.9, 29.80083891436615, -3.0, 100.0)"
      ]
     },
     "execution_count": 42,
     "metadata": {},
     "output_type": "execute_result"
    }
   ],
   "source": [
    "np.mean(X), np.std(X), np.min(X), np.max(X)"
   ]
  },
  {
   "cell_type": "markdown",
   "id": "a4c6149f-0ff8-4d93-bba7-0467d13baff1",
   "metadata": {},
   "source": [
    "#### StandardScaler"
   ]
  },
  {
   "cell_type": "code",
   "execution_count": 43,
   "id": "b36c62b2-c2ba-4cc0-8c6d-446559fa9e1b",
   "metadata": {},
   "outputs": [],
   "source": [
    "scaler = StandardScaler()\n",
    "scaler.fit(X)\n",
    "x = scaler.transform(X)"
   ]
  },
  {
   "cell_type": "code",
   "execution_count": 45,
   "id": "feea52ce-578d-4242-b8a4-11a0a72157b1",
   "metadata": {},
   "outputs": [
    {
     "data": {
      "text/plain": [
       "(0.0, 1.0, -0.46642982232621644, 2.989848717213373)"
      ]
     },
     "execution_count": 45,
     "metadata": {},
     "output_type": "execute_result"
    }
   ],
   "source": [
    "np.mean(x), np.std(x), np.min(x), np.max(x)"
   ]
  },
  {
   "cell_type": "markdown",
   "id": "91011def-bfb9-47dc-9748-397ee224bbcb",
   "metadata": {},
   "source": [
    "#### MinMaxScaler"
   ]
  },
  {
   "cell_type": "code",
   "execution_count": 46,
   "id": "9574704c-8ba7-48b0-a3fd-9dd1329274f1",
   "metadata": {},
   "outputs": [],
   "source": [
    "scaler = MinMaxScaler()\n",
    "scaler.fit(X)\n",
    "x = scaler.transform(X)"
   ]
  },
  {
   "cell_type": "code",
   "execution_count": 47,
   "id": "db872232-ef33-4625-9824-1853f6c2f8de",
   "metadata": {},
   "outputs": [
    {
     "data": {
      "text/plain": [
       "(0.1349514563106796, 0.2893285331491859, 0.0, 0.9999999999999999)"
      ]
     },
     "execution_count": 47,
     "metadata": {},
     "output_type": "execute_result"
    }
   ],
   "source": [
    "np.mean(x), np.std(x), np.min(x), np.max(x)"
   ]
  },
  {
   "cell_type": "code",
   "execution_count": null,
   "id": "439239c9-5dc8-4188-9bad-38c12f41b9a2",
   "metadata": {},
   "outputs": [],
   "source": []
  }
 ],
 "metadata": {
  "kernelspec": {
   "display_name": "Python 3 (ipykernel)",
   "language": "python",
   "name": "python3"
  },
  "language_info": {
   "codemirror_mode": {
    "name": "ipython",
    "version": 3
   },
   "file_extension": ".py",
   "mimetype": "text/x-python",
   "name": "python",
   "nbconvert_exporter": "python",
   "pygments_lexer": "ipython3",
   "version": "3.11.4"
  }
 },
 "nbformat": 4,
 "nbformat_minor": 5
}
