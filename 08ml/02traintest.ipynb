{
 "cells": [
  {
   "cell_type": "markdown",
   "id": "adcd9dee-d181-4c98-ad80-ccee040cc67a",
   "metadata": {},
   "source": [
    "## 과적합 vs 과소적합\n",
    "* 훈련 데이터가 가지고 있는 특성을 너무 많이 반영해서 훈련데이터의 패턴을\n",
    "* 너무 잘 인식하게 되는 문제\n",
    "    + 이럴 경우 새로운 데이터가 주어지면 정확하게 예측하는 일반화 능력은 떨어짐"
   ]
  },
  {
   "cell_type": "code",
   "execution_count": 1,
   "id": "5153ee45-f84b-4b92-b447-21e0ae7caf03",
   "metadata": {},
   "outputs": [],
   "source": [
    "import numpy as np\n",
    "import pandas as pd\n",
    "import matplotlib.pyplot as plt"
   ]
  },
  {
   "cell_type": "code",
   "execution_count": 9,
   "id": "e53a1349-5234-4b4e-9a24-76e96212a8e0",
   "metadata": {},
   "outputs": [],
   "source": [
    "from sklearn.datasets import load_iris\n",
    "from sklearn.tree import DecisionTreeClassifier\n",
    "from sklearn.metrics import accuracy_score"
   ]
  },
  {
   "cell_type": "markdown",
   "id": "aa9b5508-e294-4f79-a02a-55ea852d9ec0",
   "metadata": {},
   "source": [
    "### 분석 시작1"
   ]
  },
  {
   "cell_type": "code",
   "execution_count": 11,
   "id": "a61e4bc0-1d21-4084-b26a-e007fc57c657",
   "metadata": {},
   "outputs": [],
   "source": [
    "# 데이터 준비\n",
    "iris = load_iris()\n",
    "data = iris.data\n",
    "target = iris.target"
   ]
  },
  {
   "cell_type": "code",
   "execution_count": 13,
   "id": "d197295d-bc6d-4c74-9431-87b59e03e4e1",
   "metadata": {},
   "outputs": [
    {
     "data": {
      "text/plain": [
       "1.0"
      ]
     },
     "execution_count": 13,
     "metadata": {},
     "output_type": "execute_result"
    }
   ],
   "source": [
    "# 분류분석 후 모델 평가\n",
    "dtclf = DecisionTreeClassifier() # 분류기 선언\n",
    "dtclf.fit(data, target)          # 분류기로 학습\n",
    "pred = dtclf.predict(data)       # 분류기로 예측\n",
    "\n",
    "accuracy_score(target, pred) # 예측값과 실제값 비교 - 정확도 검증"
   ]
  },
  {
   "cell_type": "markdown",
   "id": "eea198d3-2434-41b7-a148-bdd88bf158f7",
   "metadata": {},
   "source": [
    "### 모델 성능 평가 : 정확도\n",
    "* 실제 정답(레이블)과 예측값 비교\n",
    "    + 정확도 1.0 출력 => 뭔가 이상?????\n",
    "* 모델 학습시킬 때 사용한 데이터를 모델 평가할때에도 사용함 - 과적합\n",
    "    + 비유) 문제집으로 시험공부했는데 시험문제가 문제집에서 다 나온 경우 100점 맞음\n",
    "    + 이런 문제를 피하려면 데이터셋을 훈련/데스트로 나눠 학습/평가를 수행해야 함"
   ]
  },
  {
   "cell_type": "markdown",
   "id": "80e3092c-6b5e-44b0-9134-f81c2471b189",
   "metadata": {},
   "source": [
    "### 훈련 데이터와 테스트 데이터\n",
    "* 기계학습 모델을 만들기 위해서는 데이터집합이 필요\n",
    "* 과적합을 방지하기 위해서는 `데이터를 훈련/테스트 데이터`로 나눠\n",
    "* 교차검증방식으로 모델을 만들고 성능을 평가함\n",
    "* 훈련데이터 : 모델 추정 및 학습이 목적\n",
    "* 테스트데이터 : 모델 성능 평가가 목적\n",
    "    + 분할 비율은 7:3 또는 8:2로 설정함"
   ]
  },
  {
   "cell_type": "markdown",
   "id": "dfb9bd26-217a-411b-aa26-6ee026dda28c",
   "metadata": {},
   "source": [
    "### 데이터를 학습/평가용 데이터로 분할 1\n",
    "* 학습/평가 데이터 비율은 7:3으로 설정\n",
    "* iris 데이터셋의 총 갯수는 150개\n",
    "    + 따라서, 105:45 로 나눔"
   ]
  },
  {
   "cell_type": "code",
   "execution_count": 17,
   "id": "8c34d103-1a81-4227-8897-760f06711df6",
   "metadata": {},
   "outputs": [],
   "source": [
    "data_train = iris.data[:105, ]\n",
    "data_test = iris.data[105:, ]"
   ]
  },
  {
   "cell_type": "code",
   "execution_count": 18,
   "id": "388e86e3-5db1-4497-b3c6-1cd1011de5a4",
   "metadata": {},
   "outputs": [],
   "source": [
    "target_train = iris.target[:105, ]\n",
    "target_test = iris.target[105:, ]"
   ]
  },
  {
   "cell_type": "code",
   "execution_count": 19,
   "id": "fb6497ba-6cd4-461b-b028-08570c934772",
   "metadata": {},
   "outputs": [
    {
     "data": {
      "text/plain": [
       "0.7777777777777778"
      ]
     },
     "execution_count": 19,
     "metadata": {},
     "output_type": "execute_result"
    }
   ],
   "source": [
    "dtclf = DecisionTreeClassifier() \n",
    "dtclf.fit(data_train, target_train)      \n",
    "pred = dtclf.predict(data_test)    \n",
    "\n",
    "accuracy_score(target_test, pred) # 예측값과 실제값 비교 - 정확도 검증"
   ]
  },
  {
   "cell_type": "code",
   "execution_count": 21,
   "id": "0a483386-dc40-4329-ad98-bdd6683c045c",
   "metadata": {},
   "outputs": [
    {
     "data": {
      "text/plain": [
       "0\n",
       "0    50\n",
       "1    50\n",
       "2     5\n",
       "Name: count, dtype: int64"
      ]
     },
     "execution_count": 21,
     "metadata": {},
     "output_type": "execute_result"
    }
   ],
   "source": [
    "pd.DataFrame(target_train)[0].value_counts()"
   ]
  },
  {
   "cell_type": "code",
   "execution_count": 22,
   "id": "9b9b2d19-cb12-4685-a7b3-496eff1332d7",
   "metadata": {},
   "outputs": [
    {
     "data": {
      "text/plain": [
       "0\n",
       "2    45\n",
       "Name: count, dtype: int64"
      ]
     },
     "execution_count": 22,
     "metadata": {},
     "output_type": "execute_result"
    }
   ],
   "source": [
    "pd.DataFrame(target_test)[0].value_counts()"
   ]
  },
  {
   "cell_type": "code",
   "execution_count": null,
   "id": "7bc418b8-6def-4020-a94d-53eb19a18ffd",
   "metadata": {},
   "outputs": [],
   "source": [
    "# 학습은 setosa, versicolor 위주로 하고\n",
    "# 평가는 virginica 위주로 함\n",
    "# 따라서, setosa, versicolor는 잘 예측하지만,\n",
    "# verginica는 잘 예측하지 못함"
   ]
  },
  {
   "cell_type": "markdown",
   "id": "f6286523-bdc6-40e1-8b7a-521a97772a4d",
   "metadata": {},
   "source": [
    "## 데이터를 학습/평가용 데이터로 분할 2\n",
    "* 독립변수 속성들의 분포를 고려한 표본추출이 필요함\n",
    "    + sklearn의 `train_test_split`를 이용\n",
    "    + train_test_split(feature변수, target변수, 훈련데이터크기, 평가데이터크기, 계층추출기준, 난수초기값)"
   ]
  },
  {
   "cell_type": "code",
   "execution_count": 23,
   "id": "7d7bf2cf-a26d-4075-83dd-4edb618a7180",
   "metadata": {},
   "outputs": [],
   "source": [
    "from sklearn.model_selection import train_test_split"
   ]
  },
  {
   "cell_type": "code",
   "execution_count": 25,
   "id": "6991af05-cc6e-40c9-82e9-7d8e3ba650ba",
   "metadata": {},
   "outputs": [],
   "source": [
    "X_train, X_test, y_train, y_test = train_test_split(data, target, train_size=0.7, test_size=0.3,\n",
    "                stratify=target, random_state=2309211445)"
   ]
  },
  {
   "cell_type": "code",
   "execution_count": 29,
   "id": "23a5bf5c-4e41-4488-a9e4-437d998305fa",
   "metadata": {},
   "outputs": [
    {
     "data": {
      "text/plain": [
       "0\n",
       "2    35\n",
       "1    35\n",
       "0    35\n",
       "Name: count, dtype: int64"
      ]
     },
     "execution_count": 29,
     "metadata": {},
     "output_type": "execute_result"
    }
   ],
   "source": [
    "pd.DataFrame(y_train)[0].value_counts()"
   ]
  },
  {
   "cell_type": "code",
   "execution_count": 30,
   "id": "aa6451b8-0a34-453e-9b89-8423069a3bc9",
   "metadata": {},
   "outputs": [
    {
     "data": {
      "text/plain": [
       "0\n",
       "1    15\n",
       "0    15\n",
       "2    15\n",
       "Name: count, dtype: int64"
      ]
     },
     "execution_count": 30,
     "metadata": {},
     "output_type": "execute_result"
    }
   ],
   "source": [
    "pd.DataFrame(y_test)[0].value_counts()"
   ]
  },
  {
   "cell_type": "code",
   "execution_count": 31,
   "id": "983398a2-d29a-4830-be12-45d9301401dd",
   "metadata": {},
   "outputs": [
    {
     "data": {
      "text/plain": [
       "1.0"
      ]
     },
     "execution_count": 31,
     "metadata": {},
     "output_type": "execute_result"
    }
   ],
   "source": [
    "dtclf = DecisionTreeClassifier(random_state=1)\n",
    "dtclf.fit(X_train, y_train)      \n",
    "pred = dtclf.predict(X_test)    \n",
    "\n",
    "accuracy_score(y_test, pred)"
   ]
  },
  {
   "cell_type": "code",
   "execution_count": null,
   "id": "64dd2986-eb24-44c6-97c6-d5128d31822b",
   "metadata": {},
   "outputs": [],
   "source": []
  }
 ],
 "metadata": {
  "kernelspec": {
   "display_name": "Python 3 (ipykernel)",
   "language": "python",
   "name": "python3"
  },
  "language_info": {
   "codemirror_mode": {
    "name": "ipython",
    "version": 3
   },
   "file_extension": ".py",
   "mimetype": "text/x-python",
   "name": "python",
   "nbconvert_exporter": "python",
   "pygments_lexer": "ipython3",
   "version": "3.11.4"
  }
 },
 "nbformat": 4,
 "nbformat_minor": 5
}
