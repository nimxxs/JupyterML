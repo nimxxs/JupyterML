{
 "cells": [
  {
   "cell_type": "markdown",
   "id": "5cc4fe95-4fef-48ef-94aa-1a5c93852287",
   "metadata": {},
   "source": [
    "## ROC\n",
    "* Receiver Operation Characteristic\n",
    "* 수신자 판단 곡선 \n",
    "* 세계 2차 대전 통신 장비 성능 평가를 위해 고안된 수치\n",
    "    + 레이더 데이터를 분석하여 적 항공기와 신호 소음을 구별하는 데 사용\n",
    "    + 수신기의 감도가 증가함에 따라 거짓 긍정의 수(즉, 특이성)이 감소함\n",
    "* 의학분야에 많이 사용되지만, 머신러닝의 이진 분류 모델 예측 성능 평가에도 사용\n",
    "* ROC곡선의 y축은 '재현율TPR'를, x축은 '(1-재현율)FPR'로 그림\n",
    "    + FPR : FP/(TN+FP) : 아군항공기 소리를 적항공기 소리라고 오판한 비율 - 낮아야 함\n",
    "    + TPR : TP/(TP+FN) : 적항공기 소리를 적항공기 소리라고 잘판단한 비율 - 높아야 함\n",
    "    + FPR이 변할때 TPR이 어떻게 변하는지 알아봄\n",
    "* 모델이 양성/긍정으로 예측했을때 얼마나 잘 맞추고 있는지를 설명한 것"
   ]
  },
  {
   "cell_type": "markdown",
   "id": "390e8226-0138-4524-bab8-153e6a1f8ffb",
   "metadata": {},
   "source": [
    "### ROC 그래프 그리기\n",
    "* 타이타닉 데이터셋으로 로지스틱회귀 분석한 후\n",
    "* 특이도, 재현율을 구한후 ROC 그래프 작성"
   ]
  },
  {
   "cell_type": "code",
   "execution_count": 1,
   "id": "413ddfb8-f4b9-450e-8132-bed033fc55ad",
   "metadata": {},
   "outputs": [],
   "source": [
    "import numpy as np\n",
    "import pandas as pd\n",
    "import matplotlib.pyplot as plt"
   ]
  },
  {
   "cell_type": "code",
   "execution_count": 2,
   "id": "c5435014-3886-4ce7-864a-66f72dc8723a",
   "metadata": {},
   "outputs": [],
   "source": [
    "from sklearn.model_selection import train_test_split\n",
    "from sklearn.linear_model import LogisticRegression\n",
    "\n",
    "from sklearn.metrics import confusion_matrix\n",
    "from sklearn.metrics import accuracy_score\n",
    "from sklearn.metrics import recall_score\n",
    "from sklearn.metrics import precision_score"
   ]
  },
  {
   "cell_type": "code",
   "execution_count": 3,
   "id": "7b6cee28-cf64-4ed5-bc9a-041e132e74e5",
   "metadata": {},
   "outputs": [],
   "source": [
    "titanic = pd.read_csv('titanic3.csv')\n",
    "data = titanic.iloc[:, 1:8]\n",
    "target = titanic.survived\n",
    "X_train, X_test, y_train, y_test= train_test_split(data, target, train_size=0.7,\n",
    "                random_state=2309221500, stratify=target)"
   ]
  },
  {
   "cell_type": "code",
   "execution_count": 4,
   "id": "d7e3eccf-17c6-44b3-8166-6abdf78237f8",
   "metadata": {},
   "outputs": [
    {
     "data": {
      "text/plain": [
       "0.7678571428571429"
      ]
     },
     "execution_count": 4,
     "metadata": {},
     "output_type": "execute_result"
    }
   ],
   "source": [
    "lrclf = LogisticRegression(max_iter=500)\n",
    "\n",
    "lrclf.fit(X_train, y_train)\n",
    "pred = lrclf.predict(X_test)\n",
    "accuracy_score(y_test, pred)"
   ]
  },
  {
   "cell_type": "markdown",
   "id": "368d19cb-1a67-4af7-89c8-8473626cd3b3",
   "metadata": {},
   "source": [
    "### 분류모델의 불확실성 알아보기\n",
    "* 확률적 판별/생성 모형 \n",
    "    + 주어진 데이터에 대해 각 범주category/레이블이 정답일 조건부확률을 계산하는 방법에 따라 **조건부 확률함수를 추정**하거나 베이즈 정리를 사용해서 분류하는 모형\n",
    "* 따라서, 분류기의 **예측 불확실성**을 추정하려면 scikit-learn에서 제공하는 2가지 함수를 사용\n",
    "     + decision function, `predict_proba`"
   ]
  },
  {
   "cell_type": "code",
   "execution_count": 5,
   "id": "3e04eaee-a769-41a4-9cec-c66ea29b0a49",
   "metadata": {},
   "outputs": [
    {
     "data": {
      "text/html": [
       "<div>\n",
       "<style scoped>\n",
       "    .dataframe tbody tr th:only-of-type {\n",
       "        vertical-align: middle;\n",
       "    }\n",
       "\n",
       "    .dataframe tbody tr th {\n",
       "        vertical-align: top;\n",
       "    }\n",
       "\n",
       "    .dataframe thead th {\n",
       "        text-align: right;\n",
       "    }\n",
       "</style>\n",
       "<table border=\"1\" class=\"dataframe\">\n",
       "  <thead>\n",
       "    <tr style=\"text-align: right;\">\n",
       "      <th></th>\n",
       "      <th>age</th>\n",
       "      <th>sibsp</th>\n",
       "      <th>parch</th>\n",
       "      <th>fare</th>\n",
       "      <th>gender</th>\n",
       "      <th>embark_town</th>\n",
       "      <th>pclass</th>\n",
       "    </tr>\n",
       "  </thead>\n",
       "  <tbody>\n",
       "    <tr>\n",
       "      <th>933</th>\n",
       "      <td>29.000000</td>\n",
       "      <td>3.0</td>\n",
       "      <td>1.0</td>\n",
       "      <td>22.0250</td>\n",
       "      <td>1</td>\n",
       "      <td>2</td>\n",
       "      <td>2</td>\n",
       "    </tr>\n",
       "    <tr>\n",
       "      <th>996</th>\n",
       "      <td>29.881135</td>\n",
       "      <td>0.0</td>\n",
       "      <td>0.0</td>\n",
       "      <td>7.8958</td>\n",
       "      <td>1</td>\n",
       "      <td>0</td>\n",
       "      <td>2</td>\n",
       "    </tr>\n",
       "    <tr>\n",
       "      <th>414</th>\n",
       "      <td>16.000000</td>\n",
       "      <td>0.0</td>\n",
       "      <td>0.0</td>\n",
       "      <td>26.0000</td>\n",
       "      <td>1</td>\n",
       "      <td>2</td>\n",
       "      <td>1</td>\n",
       "    </tr>\n",
       "  </tbody>\n",
       "</table>\n",
       "</div>"
      ],
      "text/plain": [
       "           age  sibsp  parch     fare  gender  embark_town  pclass\n",
       "933  29.000000    3.0    1.0  22.0250       1            2       2\n",
       "996  29.881135    0.0    0.0   7.8958       1            0       2\n",
       "414  16.000000    0.0    0.0  26.0000       1            2       1"
      ]
     },
     "execution_count": 5,
     "metadata": {},
     "output_type": "execute_result"
    }
   ],
   "source": [
    "X_test[:3]"
   ]
  },
  {
   "cell_type": "code",
   "execution_count": 6,
   "id": "baafae26-814d-4ceb-bb50-382b6bbbabe8",
   "metadata": {},
   "outputs": [
    {
     "data": {
      "text/plain": [
       "array([0, 0, 0])"
      ]
     },
     "execution_count": 6,
     "metadata": {},
     "output_type": "execute_result"
    }
   ],
   "source": [
    "# 생존여부를 이산형 수치로 확인\n",
    "lrclf.predict(X_test[:3])"
   ]
  },
  {
   "cell_type": "code",
   "execution_count": 7,
   "id": "b8216613-1a52-4589-8a7f-8805ee18d8e7",
   "metadata": {},
   "outputs": [
    {
     "data": {
      "text/plain": [
       "array([[0.95993164, 0.04006836],\n",
       "       [0.84506438, 0.15493562],\n",
       "       [0.68139296, 0.31860704]])"
      ]
     },
     "execution_count": 7,
     "metadata": {},
     "output_type": "execute_result"
    }
   ],
   "source": [
    "# 생존여부를 확률수치로 확인\n",
    "lrclf.predict_proba(X_test[:3])"
   ]
  },
  {
   "cell_type": "markdown",
   "id": "c6cfe714-05b3-411d-8c97-3becd9998892",
   "metadata": {},
   "source": [
    "### 타이타닉 승객 생존 여부 확률값 추출\n",
    "+ 타이타닉 승객 생존 여부에서 `생존(1)`이 주된 관심사이므로\n",
    "+ 생존에 대한 확률값만 따로 추출"
   ]
  },
  {
   "cell_type": "code",
   "execution_count": 8,
   "id": "a7a10613-f870-4f11-8d85-48fe44580e1e",
   "metadata": {},
   "outputs": [
    {
     "data": {
      "text/plain": [
       "array([0.04006836, 0.15493562, 0.31860704])"
      ]
     },
     "execution_count": 8,
     "metadata": {},
     "output_type": "execute_result"
    }
   ],
   "source": [
    "pred_proba = lrclf.predict_proba(X_test)\n",
    "pred_proba[:3, 1]  # 승객의 생존에 대한 확률값(0.5 이상 생존, 0.5이하 사망)"
   ]
  },
  {
   "cell_type": "code",
   "execution_count": 9,
   "id": "a0fee674-ca10-4ba0-afd7-a8b0c571e624",
   "metadata": {},
   "outputs": [
    {
     "data": {
      "text/html": [
       "<div>\n",
       "<style scoped>\n",
       "    .dataframe tbody tr th:only-of-type {\n",
       "        vertical-align: middle;\n",
       "    }\n",
       "\n",
       "    .dataframe tbody tr th {\n",
       "        vertical-align: top;\n",
       "    }\n",
       "\n",
       "    .dataframe thead th {\n",
       "        text-align: right;\n",
       "    }\n",
       "</style>\n",
       "<table border=\"1\" class=\"dataframe\">\n",
       "  <thead>\n",
       "    <tr style=\"text-align: right;\">\n",
       "      <th></th>\n",
       "      <th>실제값</th>\n",
       "      <th>생존확률값</th>\n",
       "      <th>예측값</th>\n",
       "    </tr>\n",
       "  </thead>\n",
       "  <tbody>\n",
       "    <tr>\n",
       "      <th>933</th>\n",
       "      <td>1</td>\n",
       "      <td>0.040068</td>\n",
       "      <td>0</td>\n",
       "    </tr>\n",
       "    <tr>\n",
       "      <th>996</th>\n",
       "      <td>0</td>\n",
       "      <td>0.154936</td>\n",
       "      <td>0</td>\n",
       "    </tr>\n",
       "    <tr>\n",
       "      <th>414</th>\n",
       "      <td>0</td>\n",
       "      <td>0.318607</td>\n",
       "      <td>0</td>\n",
       "    </tr>\n",
       "    <tr>\n",
       "      <th>528</th>\n",
       "      <td>0</td>\n",
       "      <td>0.291127</td>\n",
       "      <td>0</td>\n",
       "    </tr>\n",
       "    <tr>\n",
       "      <th>1220</th>\n",
       "      <td>0</td>\n",
       "      <td>0.141173</td>\n",
       "      <td>0</td>\n",
       "    </tr>\n",
       "  </tbody>\n",
       "</table>\n",
       "</div>"
      ],
      "text/plain": [
       "      실제값     생존확률값  예측값\n",
       "933     1  0.040068    0\n",
       "996     0  0.154936    0\n",
       "414     0  0.318607    0\n",
       "528     0  0.291127    0\n",
       "1220    0  0.141173    0"
      ]
     },
     "execution_count": 9,
     "metadata": {},
     "output_type": "execute_result"
    }
   ],
   "source": [
    "# 실제값, 확률값, 예측값을 하나의 데이터프레임으로 작성\n",
    "table = pd.DataFrame()\n",
    "\n",
    "table['실제값'] = y_test\n",
    "table['생존확률값'] = pred_proba[:, 1]\n",
    "table['예측값'] = lrclf.predict(X_test)\n",
    "\n",
    "table.head()"
   ]
  },
  {
   "cell_type": "markdown",
   "id": "b92d84ed-1bdf-4c37-a84c-6ba91b2204ee",
   "metadata": {},
   "source": [
    "### 각 예측값 별 특이도fprs, 재현율tprs, 임계값을 구함\n",
    "+ tprs : 실제값이 양성(승객 생존)이고 예측값이 양성(승객 생존)으로 예측되는 정도\n",
    "+ fprs : 실제값이 음성(승객 사망)인데 예측값이 양성(승객 생존)으로 예측되는 정도\n",
    "+ thresholds : 임계값"
   ]
  },
  {
   "cell_type": "code",
   "execution_count": 10,
   "id": "a9f0dd85-b714-42e5-b26a-15e40e3effb3",
   "metadata": {},
   "outputs": [],
   "source": [
    "from sklearn.metrics import roc_curve"
   ]
  },
  {
   "cell_type": "code",
   "execution_count": 11,
   "id": "3a18618f-38f0-4af2-ba06-c79ab98d5d27",
   "metadata": {},
   "outputs": [
    {
     "name": "stdout",
     "output_type": "stream",
     "text": [
      "양성tprs 결과 [0.         0.00671141 0.34899329 0.34899329 0.40268456]\n",
      "음성fprs 결과 [0.         0.         0.         0.00411523 0.00411523]\n"
     ]
    }
   ],
   "source": [
    "fprs, tprs, thresholds = roc_curve(y_test, pred_proba[:, 1])\n",
    "\n",
    "print('양성tprs 결과', tprs[:5])\n",
    "print('음성fprs 결과', fprs[:5])"
   ]
  },
  {
   "cell_type": "markdown",
   "id": "21cd9e87-7974-40c3-8515-1fb27d823b5f",
   "metadata": {},
   "source": [
    "### ROC 그래프 시각화\n",
    "+ 분류를 잘 하는 모델일수록 커브는 1에 가깝게 표시\r\n",
    "+ fpr, tpr 그래프의 겹친 부분이 크다 - 변별력 낮음 - 곡선이 0에 가깝게 붙어서 출력\r\n",
    "+ fpr, tpr 그래프가 겹친 부분이 작다 - 변별력 높음 - 곡선이 1에 가깝게 붙어서 출력"
   ]
  },
  {
   "cell_type": "code",
   "execution_count": 12,
   "id": "0e610014-19fb-459f-b1ae-d6df279df1e7",
   "metadata": {},
   "outputs": [
    {
     "data": {
      "image/png": "[encoded data removed]",
      "text/plain": [
       "<Figure size 640x480 with 1 Axes>"
      ]
     },
     "metadata": {},
     "output_type": "display_data"
    }
   ],
   "source": [
    "plt.plot(fprs, tprs, 'r')\n",
    "plt.plot([0,1], [0,1], 'k--')\n",
    "plt.xlabel('FPRS')\n",
    "plt.ylabel('TPRS')\n",
    "plt.tight_layout()"
   ]
  },
  {
   "cell_type": "markdown",
   "id": "3d1f6eac-e7b3-449f-9c2c-ffccfaea99d2",
   "metadata": {},
   "source": [
    "### 특이도, 재현율 시각화\n",
    "<img src='./img/tpr_fpr_threshold.png'>"
   ]
  },
  {
   "cell_type": "code",
   "execution_count": 13,
   "id": "11b5e81c-f689-4022-a526-a2d20b3a2bff",
   "metadata": {},
   "outputs": [
    {
     "data": {
      "text/html": [
       "<div>\n",
       "<style scoped>\n",
       "    .dataframe tbody tr th:only-of-type {\n",
       "        vertical-align: middle;\n",
       "    }\n",
       "\n",
       "    .dataframe tbody tr th {\n",
       "        vertical-align: top;\n",
       "    }\n",
       "\n",
       "    .dataframe thead th {\n",
       "        text-align: right;\n",
       "    }\n",
       "</style>\n",
       "<table border=\"1\" class=\"dataframe\">\n",
       "  <thead>\n",
       "    <tr style=\"text-align: right;\">\n",
       "      <th></th>\n",
       "      <th>fprs</th>\n",
       "      <th>tprs</th>\n",
       "      <th>thresholds</th>\n",
       "    </tr>\n",
       "  </thead>\n",
       "  <tbody>\n",
       "    <tr>\n",
       "      <th>0</th>\n",
       "      <td>0.000000</td>\n",
       "      <td>0.000000</td>\n",
       "      <td>1.956032</td>\n",
       "    </tr>\n",
       "    <tr>\n",
       "      <th>1</th>\n",
       "      <td>0.000000</td>\n",
       "      <td>0.006711</td>\n",
       "      <td>0.956032</td>\n",
       "    </tr>\n",
       "    <tr>\n",
       "      <th>2</th>\n",
       "      <td>0.000000</td>\n",
       "      <td>0.348993</td>\n",
       "      <td>0.779096</td>\n",
       "    </tr>\n",
       "    <tr>\n",
       "      <th>3</th>\n",
       "      <td>0.004115</td>\n",
       "      <td>0.348993</td>\n",
       "      <td>0.776471</td>\n",
       "    </tr>\n",
       "    <tr>\n",
       "      <th>4</th>\n",
       "      <td>0.004115</td>\n",
       "      <td>0.402685</td>\n",
       "      <td>0.734301</td>\n",
       "    </tr>\n",
       "  </tbody>\n",
       "</table>\n",
       "</div>"
      ],
      "text/plain": [
       "       fprs      tprs  thresholds\n",
       "0  0.000000  0.000000    1.956032\n",
       "1  0.000000  0.006711    0.956032\n",
       "2  0.000000  0.348993    0.779096\n",
       "3  0.004115  0.348993    0.776471\n",
       "4  0.004115  0.402685    0.734301"
      ]
     },
     "execution_count": 13,
     "metadata": {},
     "output_type": "execute_result"
    }
   ],
   "source": [
    "roc = pd.DataFrame()\n",
    "\n",
    "roc['fprs'] = fprs\n",
    "roc['tprs'] = tprs\n",
    "roc['thresholds'] = thresholds\n",
    "\n",
    "roc.head()"
   ]
  },
  {
   "cell_type": "code",
   "execution_count": 14,
   "id": "abdf8c15-d3c2-4e3b-87d0-c49337cb2ba0",
   "metadata": {},
   "outputs": [
    {
     "data": {
      "text/html": [
       "<div>\n",
       "<style scoped>\n",
       "    .dataframe tbody tr th:only-of-type {\n",
       "        vertical-align: middle;\n",
       "    }\n",
       "\n",
       "    .dataframe tbody tr th {\n",
       "        vertical-align: top;\n",
       "    }\n",
       "\n",
       "    .dataframe thead th {\n",
       "        text-align: right;\n",
       "    }\n",
       "</style>\n",
       "<table border=\"1\" class=\"dataframe\">\n",
       "  <thead>\n",
       "    <tr style=\"text-align: right;\">\n",
       "      <th></th>\n",
       "      <th>fprs</th>\n",
       "      <th>tprs</th>\n",
       "      <th>thresholds</th>\n",
       "    </tr>\n",
       "  </thead>\n",
       "  <tbody>\n",
       "    <tr>\n",
       "      <th>125</th>\n",
       "      <td>0.921811</td>\n",
       "      <td>0.986577</td>\n",
       "      <td>0.072240</td>\n",
       "    </tr>\n",
       "    <tr>\n",
       "      <th>126</th>\n",
       "      <td>0.921811</td>\n",
       "      <td>0.993289</td>\n",
       "      <td>0.071497</td>\n",
       "    </tr>\n",
       "    <tr>\n",
       "      <th>127</th>\n",
       "      <td>0.991770</td>\n",
       "      <td>0.993289</td>\n",
       "      <td>0.048724</td>\n",
       "    </tr>\n",
       "    <tr>\n",
       "      <th>128</th>\n",
       "      <td>0.991770</td>\n",
       "      <td>1.000000</td>\n",
       "      <td>0.040068</td>\n",
       "    </tr>\n",
       "    <tr>\n",
       "      <th>129</th>\n",
       "      <td>1.000000</td>\n",
       "      <td>1.000000</td>\n",
       "      <td>0.007980</td>\n",
       "    </tr>\n",
       "  </tbody>\n",
       "</table>\n",
       "</div>"
      ],
      "text/plain": [
       "         fprs      tprs  thresholds\n",
       "125  0.921811  0.986577    0.072240\n",
       "126  0.921811  0.993289    0.071497\n",
       "127  0.991770  0.993289    0.048724\n",
       "128  0.991770  1.000000    0.040068\n",
       "129  1.000000  1.000000    0.007980"
      ]
     },
     "execution_count": 14,
     "metadata": {},
     "output_type": "execute_result"
    }
   ],
   "source": [
    "roc.tail()"
   ]
  },
  {
   "cell_type": "markdown",
   "id": "d2ca5923-3a7d-417b-bf43-ad643b8254ef",
   "metadata": {},
   "source": [
    "### fpr, tpr 관계\n",
    "<img src='./img/TP-TN-FP-FN.png'>"
   ]
  },
  {
   "cell_type": "code",
   "execution_count": 15,
   "id": "f15ce8fe-3dc3-4234-aa02-dc6a43cbe915",
   "metadata": {},
   "outputs": [],
   "source": [
    "import seaborn as sns"
   ]
  },
  {
   "cell_type": "code",
   "execution_count": 16,
   "id": "d08a8141-b62e-433e-bc17-b62740231a38",
   "metadata": {},
   "outputs": [
    {
     "name": "stderr",
     "output_type": "stream",
     "text": [
      "/opt/conda/lib/python3.11/site-packages/seaborn/axisgrid.py:118: UserWarning: The figure layout has changed to tight\n",
      "  self._figure.tight_layout(*args, **kwargs)\n",
      "/tmp/ipykernel_8787/3253261754.py:2: UserWarning: The figure layout has changed to tight\n",
      "  plt.tight_layout()\n"
     ]
    },
    {
     "data": {
      "image/png": "[encoded data removed]",
      "text/plain": [
       "<Figure size 577.25x500 with 1 Axes>"
      ]
     },
     "metadata": {},
     "output_type": "display_data"
    }
   ],
   "source": [
    "sns.displot(roc.iloc[:, [0,1]], kind='kde')\n",
    "plt.tight_layout()"
   ]
  },
  {
   "cell_type": "markdown",
   "id": "f05ca57e-03cc-4dcc-94ff-18faaa4afac7",
   "metadata": {},
   "source": [
    "## AUC\n",
    "* Area Under Curve\n",
    "* ROC 곡선 밑의 면적을 구한 값\n",
    "* 1에 가까울 수록 좋은 수치를 의미함\n",
    "    + 0.9 ~ 1 : excellent\n",
    "    + 0.8 ~ 0.9 : good\n",
    "    + 0.7 ~ 0.8 : normal"
   ]
  },
  {
   "cell_type": "code",
   "execution_count": 17,
   "id": "2b960296-ec56-4107-9e16-e07484e19a51",
   "metadata": {},
   "outputs": [],
   "source": [
    "from sklearn.metrics import roc_auc_score"
   ]
  },
  {
   "cell_type": "code",
   "execution_count": 18,
   "id": "8d77cff6-9944-4b3f-ba9c-fac8328e1741",
   "metadata": {},
   "outputs": [
    {
     "data": {
      "text/plain": [
       "0.7426602590659265"
      ]
     },
     "execution_count": 18,
     "metadata": {},
     "output_type": "execute_result"
    }
   ],
   "source": [
    "roc_auc_score(y_test, pred)"
   ]
  },
  {
   "cell_type": "code",
   "execution_count": null,
   "id": "a13bcb4a-6fb7-42b1-aa03-ae8c4b06c507",
   "metadata": {},
   "outputs": [],
   "source": []
  }
 ],
 "metadata": {
  "kernelspec": {
   "display_name": "Python 3 (ipykernel)",
   "language": "python",
   "name": "python3"
  },
  "language_info": {
   "codemirror_mode": {
    "name": "ipython",
    "version": 3
   },
   "file_extension": ".py",
   "mimetype": "text/x-python",
   "name": "python",
   "nbconvert_exporter": "python",
   "pygments_lexer": "ipython3",
   "version": "3.11.4"
  }
 },
 "nbformat": 4,
 "nbformat_minor": 5
}
