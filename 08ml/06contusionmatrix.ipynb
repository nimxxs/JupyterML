{
 "cells": [
  {
   "cell_type": "markdown",
   "id": "ab15e40e-dd99-4e51-88c8-c12a943e1e7d",
   "metadata": {},
   "source": [
    "## 머신러닝 모델 평가\n",
    "* 일반적으로 머신러닝 분석은 <br>\n",
    "`데이터 가공/변환(전처리) => 모델 학습/예측 => 평가`의 과정을 거침\n",
    "* 앞의 타이타닉예제에서 모델 평가는 '정확도'만 사용했었음"
   ]
  },
  {
   "cell_type": "markdown",
   "id": "89d0c80f-19dd-45c6-88b0-8d598fd2efe9",
   "metadata": {},
   "source": [
    "#### 정확도의 함정\n",
    "* 앞의 타이타닉 생존자 ML예제의 정확도는 평균 0.77이었음\n",
    "* 그런데, 정확도 지표만으로 ML모델의 성능을 파악하기에는 다소 문제가 있음 - 왜곡의 위험\n",
    "* 즉, 탐색적 분석을 시행했을때 성별을 기준으로 생존비율은 여성일때가 더 높았음\n",
    "* 따라서, 굳이 ML알고리즘을 적용하지 않아도 성별이 여성인 경우 생존, 남성인 경우 사망이라고 예측해도 크게 무리 없음"
   ]
  },
  {
   "cell_type": "code",
   "execution_count": 1,
   "id": "28f42f7e-712c-4864-8590-bc295e0ddfcd",
   "metadata": {},
   "outputs": [],
   "source": [
    "import numpy as np\n",
    "import pandas as pd\n",
    "import matplotlib.pyplot as plt\n",
    "import seaborn as sns"
   ]
  },
  {
   "cell_type": "code",
   "execution_count": 2,
   "id": "2ee5ff5d-7bfa-43b5-be94-f4d9143389eb",
   "metadata": {},
   "outputs": [],
   "source": [
    "titanic = sns.load_dataset('titanic')"
   ]
  },
  {
   "cell_type": "code",
   "execution_count": 3,
   "id": "ce95e76a-3160-4a44-b821-4f27ac554541",
   "metadata": {},
   "outputs": [
    {
     "data": {
      "image/png": "[encoded data removed]",
      "text/plain": [
       "<Figure size 640x480 with 1 Axes>"
      ]
     },
     "metadata": {},
     "output_type": "display_data"
    }
   ],
   "source": [
    "# 남성/여성 비율 확인\n",
    "sns.countplot(x='sex', data=titanic)\n",
    "plt.tight_layout()"
   ]
  },
  {
   "cell_type": "code",
   "execution_count": 4,
   "id": "fc1b3d4b-946a-4f6d-961f-625f8d27853f",
   "metadata": {},
   "outputs": [
    {
     "data": {
      "text/plain": [
       "sex     alive\n",
       "female  no        81\n",
       "        yes      233\n",
       "male    no       468\n",
       "        yes      109\n",
       "Name: alive, dtype: int64"
      ]
     },
     "execution_count": 4,
     "metadata": {},
     "output_type": "execute_result"
    }
   ],
   "source": [
    "titanic.groupby(['sex', 'alive'])['alive'].count()"
   ]
  },
  {
   "cell_type": "markdown",
   "id": "c35ebe54-37a1-4046-8cdb-b78059611e5d",
   "metadata": {},
   "source": [
    "#### 가짜 분류기 생성\n",
    "* 성별이 남자면 사망\n",
    "* 성별이 여자면 생존이라고 예측하는 더미분류기 생성"
   ]
  },
  {
   "cell_type": "code",
   "execution_count": 5,
   "id": "f281a2dc-438f-4123-bc03-3c7d0bd1ef5e",
   "metadata": {},
   "outputs": [],
   "source": [
    "from sklearn.base import BaseEstimator\n",
    "\n",
    "class MyDummyClassifier(BaseEstimator):\n",
    "    # 아무것도 학습하지 않는 fit 메서드 정의\n",
    "    def fit(self, X, y=None):\n",
    "        pass\n",
    "\n",
    "    # 성별이 1(남성)이면 0(사망), 0이면 1\n",
    "    def predict(self, X):\n",
    "        pred = np.zeros((X.shape[0], 1))\n",
    "        # 입력데이터 크기만큼 0으로 채워진 1차원 행렬 생성\n",
    "\n",
    "        for i in range(X.shape[0]):\n",
    "            if X['gender'].iloc[i] != 1:\n",
    "                pred[i] = 1\n",
    "            # 성별이 여성인 경우 1로 설정\n",
    "\n",
    "        return pred"
   ]
  },
  {
   "cell_type": "code",
   "execution_count": 6,
   "id": "95d8ff13-3b64-4478-b225-64e4872c276f",
   "metadata": {},
   "outputs": [],
   "source": [
    "from sklearn.model_selection import train_test_split, cross_val_score, KFold\n",
    "\n",
    "from sklearn.tree import DecisionTreeClassifier\n",
    "from sklearn.ensemble import RandomForestClassifier\n",
    "from sklearn.linear_model import LogisticRegression\n",
    "from sklearn.neighbors import KNeighborsClassifier\n",
    "\n",
    "from sklearn.metrics import accuracy_score"
   ]
  },
  {
   "cell_type": "code",
   "execution_count": 7,
   "id": "3cb5b5a0-d94b-498e-8b83-16095d51d645",
   "metadata": {},
   "outputs": [],
   "source": [
    "titanic = pd.read_csv('titanic3.csv')\n",
    "data = titanic.iloc[:, :8]\n",
    "target = titanic.survived"
   ]
  },
  {
   "cell_type": "code",
   "execution_count": 8,
   "id": "7c908d25-4d3f-4f81-a9a6-d489d2df0300",
   "metadata": {},
   "outputs": [],
   "source": [
    "X_train, X_test, y_train, y_test = train_test_split(data, target, train_size=0.7, \n",
    "                                                    random_state=2309221135, stratify=target)"
   ]
  },
  {
   "cell_type": "code",
   "execution_count": 9,
   "id": "3667eb62-4732-4c28-a092-3fa91199a6c7",
   "metadata": {},
   "outputs": [
    {
     "data": {
      "text/plain": [
       "0.7806122448979592"
      ]
     },
     "execution_count": 9,
     "metadata": {},
     "output_type": "execute_result"
    }
   ],
   "source": [
    "dyclf = MyDummyClassifier()\n",
    "\n",
    "dyclf.fit(X_train, y_train)\n",
    "pred = dyclf.predict(X_test)\n",
    "accuracy_score(y_test, pred)"
   ]
  },
  {
   "cell_type": "code",
   "execution_count": 10,
   "id": "8d0b3145-d63f-43cd-929c-7c156d863bc6",
   "metadata": {},
   "outputs": [],
   "source": [
    "# 따라서, 정확도 평가 지표는\n",
    "# 불균형한 레이블 데이터집합에서의 성능수치로 사용되면 안됨\n",
    "# => 이러한 한계를 극복하기 위해 오차행렬(confusionmatrix) 사용\n",
    "# 특히, 정확도보다는 정밀도, 재현율을 더 선호"
   ]
  },
  {
   "cell_type": "markdown",
   "id": "c13ca068-4490-4e96-9f47-efdc572e904d",
   "metadata": {},
   "source": [
    "### 오차행렬\n",
    "<img src='./img/confusion_matrix.png'>\n",
    "\n",
    "* confusion matrix\n",
    "* 학습된 분류모델이 예측을 수행하면서\n",
    "* `얼마나 헷갈렸는지(confusion)`를 보여주는 지표\n",
    "* sklearn의 confusion_matrix 함수로 오차행렬 확인 가능\n",
    "    + TN  FP\n",
    "    + FN  TP"
   ]
  },
  {
   "cell_type": "code",
   "execution_count": 11,
   "id": "0e98da20-7863-4f41-842f-d6cdcd886552",
   "metadata": {},
   "outputs": [],
   "source": [
    "from sklearn.metrics import confusion_matrix, classification_report"
   ]
  },
  {
   "cell_type": "code",
   "execution_count": 12,
   "id": "c55f706d-eab2-4c7b-b64a-a82bf1203fb4",
   "metadata": {},
   "outputs": [
    {
     "data": {
      "text/plain": [
       "0.7627551020408163"
      ]
     },
     "execution_count": 12,
     "metadata": {},
     "output_type": "execute_result"
    }
   ],
   "source": [
    "dtclf = DecisionTreeClassifier()\n",
    "\n",
    "dtclf.fit(X_train, y_train)\n",
    "pred = dtclf.predict(X_test)\n",
    "accuracy_score(y_test, pred)"
   ]
  },
  {
   "cell_type": "code",
   "execution_count": 13,
   "id": "61169765-c419-4e2e-a481-2e57f561547b",
   "metadata": {},
   "outputs": [
    {
     "data": {
      "text/plain": [
       "array([[200,  43],\n",
       "       [ 50,  99]])"
      ]
     },
     "execution_count": 13,
     "metadata": {},
     "output_type": "execute_result"
    }
   ],
   "source": [
    "confusion_matrix(y_test, pred)\n",
    "#     n  p\n",
    "# f [fn fp]\n",
    "# t [tn tp]"
   ]
  },
  {
   "cell_type": "code",
   "execution_count": 14,
   "id": "13cb6e6c-8bf5-40a5-8b9e-447d93871e13",
   "metadata": {},
   "outputs": [
    {
     "name": "stdout",
     "output_type": "stream",
     "text": [
      "              precision    recall  f1-score   support\n",
      "\n",
      "           0       0.80      0.82      0.81       243\n",
      "           1       0.70      0.66      0.68       149\n",
      "\n",
      "    accuracy                           0.76       392\n",
      "   macro avg       0.75      0.74      0.75       392\n",
      "weighted avg       0.76      0.76      0.76       392\n",
      "\n"
     ]
    }
   ],
   "source": [
    "print(classification_report(y_test, pred))"
   ]
  },
  {
   "cell_type": "markdown",
   "id": "74e6a642-9004-4543-8430-a67fd97b4a80",
   "metadata": {},
   "source": [
    "## 정확도accuracy\n",
    "* 맞는 것(양성, Positive, 1)을 맞다고, 틀린 것(음성, Negative, 0)을 틀리다고 올바르게 예측한 것\n",
    "* $ accuracy = \\frac {TP + TN} {TP + FN + FP + TN} $\n",
    "* 위 오차행렬 대각선 부분"
   ]
  },
  {
   "cell_type": "code",
   "execution_count": 15,
   "id": "87c40d8a-67b6-45ce-a76c-2dee73ecfc6d",
   "metadata": {},
   "outputs": [
    {
     "data": {
      "text/plain": [
       "0.7627551020408163"
      ]
     },
     "execution_count": 15,
     "metadata": {},
     "output_type": "execute_result"
    }
   ],
   "source": [
    "tn, fp, fn, tp = confusion_matrix(y_test, pred).ravel()\n",
    "(tp + tn) / (tp + fn + fp + tn)\n",
    "# (694+317) / (694+110+178+317)"
   ]
  },
  {
   "cell_type": "markdown",
   "id": "147bb814-1974-415a-b9bf-b448a62ccef5",
   "metadata": {},
   "source": [
    "## 정밀도Precision\n",
    "* **모델의 예측값**이 얼마나 올바른지 알아봄\n",
    "* 양성이라고 예측한 것이 얼마나 맞았는지 알아봄 - 스팸분류\n",
    "* $precision = \\frac {TP} {TP+FP}$\n",
    "* 위 오차행렬 1열 부분"
   ]
  },
  {
   "cell_type": "code",
   "execution_count": 16,
   "id": "030f5a4d-31e7-4f34-a7a2-e823513bfbcd",
   "metadata": {},
   "outputs": [
    {
     "data": {
      "text/plain": [
       "0.6971830985915493"
      ]
     },
     "execution_count": 16,
     "metadata": {},
     "output_type": "execute_result"
    }
   ],
   "source": [
    "from sklearn.metrics import precision_score\n",
    "\n",
    "precision_score(y_test, pred)"
   ]
  },
  {
   "cell_type": "code",
   "execution_count": 17,
   "id": "88178fe7-a82f-44f3-9059-7ba532a107b5",
   "metadata": {},
   "outputs": [
    {
     "data": {
      "text/plain": [
       "0.6971830985915493"
      ]
     },
     "execution_count": 17,
     "metadata": {},
     "output_type": "execute_result"
    }
   ],
   "source": [
    "tp / (tp + fp)\n",
    "# (317) / (317+110)"
   ]
  },
  {
   "cell_type": "markdown",
   "id": "90f5a6d6-584e-4d79-b198-391346da4917",
   "metadata": {},
   "source": [
    "## 재현율Recall\n",
    "* 실제로 맞는 것 중 맞다고 예측된 것들의 비율\n",
    "* 민감도Sensitivity(통계학), 적중률hit rate(마케팅) - 임상분야\n",
    "* $recall = \\frac {TP} {TP+FN}$\n",
    "* 위 오차행렬 2행 부분"
   ]
  },
  {
   "cell_type": "code",
   "execution_count": 18,
   "id": "bdc2f701-1b05-40e8-bc2e-9304ec5ef704",
   "metadata": {},
   "outputs": [
    {
     "data": {
      "text/plain": [
       "0.6644295302013423"
      ]
     },
     "execution_count": 18,
     "metadata": {},
     "output_type": "execute_result"
    }
   ],
   "source": [
    "from sklearn.metrics import recall_score\n",
    "\n",
    "recall_score(y_test, pred)"
   ]
  },
  {
   "cell_type": "code",
   "execution_count": 19,
   "id": "e0665c45-0532-46ad-9170-4c28fdf82d10",
   "metadata": {},
   "outputs": [
    {
     "data": {
      "text/plain": [
       "0.6644295302013423"
      ]
     },
     "execution_count": 19,
     "metadata": {},
     "output_type": "execute_result"
    }
   ],
   "source": [
    "tp / (tp+fn)\n",
    "# (317) / (178+317)"
   ]
  },
  {
   "cell_type": "markdown",
   "id": "aef1f9f3-1377-4f29-88d3-a18ed900787b",
   "metadata": {},
   "source": [
    "### 특이도Specificity\n",
    "* 틀린 것 중 틀리다고 예측된 것들의 비율\n",
    "* (TN) / (TN+FP)\n",
    "* 위 오차행렬의 1행 부분"
   ]
  },
  {
   "cell_type": "code",
   "execution_count": 20,
   "id": "e05f6d2d-ed7e-4429-8201-54613996d565",
   "metadata": {},
   "outputs": [
    {
     "data": {
      "text/plain": [
       "0.823045267489712"
      ]
     },
     "execution_count": 20,
     "metadata": {},
     "output_type": "execute_result"
    }
   ],
   "source": [
    "recall_score(y_test, pred, pos_label=0)"
   ]
  },
  {
   "cell_type": "code",
   "execution_count": 21,
   "id": "5e19167a-b7da-40f3-8d19-20a6cd9dc4dd",
   "metadata": {},
   "outputs": [
    {
     "data": {
      "text/plain": [
       "0.8631840796019901"
      ]
     },
     "execution_count": 21,
     "metadata": {},
     "output_type": "execute_result"
    }
   ],
   "source": [
    "tn / (tn+fp)\n",
    "(694) / (694+110)"
   ]
  },
  {
   "cell_type": "markdown",
   "id": "4fafa151-b179-477e-bc9f-d8468cfe2e48",
   "metadata": {},
   "source": [
    "### 간단예제 - 정확도, 정밀도, 재현율(민감도)\n",
    "* 6마리의 동물형상 중 개p/고양이n를 맞추는 게임을 진행\n",
    "* <pre>정답 = [개     개     개 고양이 개     고양이]</pre>\n",
    "* <pre>예측 = [개     고양이 개 고양이 개     개    ]</pre>"
   ]
  },
  {
   "cell_type": "code",
   "execution_count": 22,
   "id": "db268f82-69cf-43cf-9103-09ea2a2b3fde",
   "metadata": {},
   "outputs": [],
   "source": [
    "# 오차행렬 먼저 그리기\n",
    "# tp  fn : 3  1\n",
    "# fp  tn : 1  1"
   ]
  },
  {
   "cell_type": "code",
   "execution_count": 23,
   "id": "11594f83-250f-4336-8020-0b7812de5cf3",
   "metadata": {},
   "outputs": [
    {
     "data": {
      "text/plain": [
       "0.7627551020408163"
      ]
     },
     "execution_count": 23,
     "metadata": {},
     "output_type": "execute_result"
    }
   ],
   "source": [
    "# 정확도 - 개를 개라고, 고양이를 고양이라고 올바르게 예측\n",
    "(tp + tn) / (tp + fn + fp + tn)"
   ]
  },
  {
   "cell_type": "code",
   "execution_count": 24,
   "id": "78ee081d-64a3-475f-90aa-ba39af635e42",
   "metadata": {},
   "outputs": [
    {
     "data": {
      "text/plain": [
       "0.75"
      ]
     },
     "execution_count": 24,
     "metadata": {},
     "output_type": "execute_result"
    }
   ],
   "source": [
    "# 정밀도 - 얼마나 개를 잘 예측했나?\n",
    "# 개라고 예측 - 1 3 5 6\n",
    "# 실제 개로 판별 - 1 2 3 5\n",
    "(3) / (3 + 1)"
   ]
  },
  {
   "cell_type": "code",
   "execution_count": 25,
   "id": "6e39d89a-6946-4c60-843b-8666878e9195",
   "metadata": {},
   "outputs": [],
   "source": [
    "# 재현율 - 실제 개를 얼마나 잘 찾았는가?\n",
    "# 실제 개 : 1 2 3 5\n",
    "# 개라고 적중 : 1 3 5 6"
   ]
  },
  {
   "cell_type": "code",
   "execution_count": 26,
   "id": "0c132c4e-fdb8-4cd0-af3b-3e09a7d1afbf",
   "metadata": {},
   "outputs": [
    {
     "data": {
      "text/plain": [
       "0.75"
      ]
     },
     "execution_count": 26,
     "metadata": {},
     "output_type": "execute_result"
    }
   ],
   "source": [
    "(3) / (3 + 1)"
   ]
  },
  {
   "cell_type": "code",
   "execution_count": 27,
   "id": "3693fa30-39a4-48d2-a89d-375b2471f171",
   "metadata": {},
   "outputs": [
    {
     "data": {
      "text/plain": [
       "array([[3, 1],\n",
       "       [1, 1]])"
      ]
     },
     "execution_count": 27,
     "metadata": {},
     "output_type": "execute_result"
    }
   ],
   "source": [
    "# 오차행렬대로 나오는 걸 알 수 있음\n",
    "y_test = [\"개\", \"개\", \"개\", \"고양이\", \"개\", \"고양이\"]\n",
    "pred = [\"개\", \"고양이\", \"개\", \"고양이\", \"개\", \"개\"]\n",
    "\n",
    "confusion_matrix(y_test, pred)"
   ]
  },
  {
   "cell_type": "code",
   "execution_count": 28,
   "id": "c11b8648-e328-4ce1-87c0-a65731c02c7b",
   "metadata": {},
   "outputs": [
    {
     "data": {
      "text/plain": [
       "0.6666666666666666"
      ]
     },
     "execution_count": 28,
     "metadata": {},
     "output_type": "execute_result"
    }
   ],
   "source": [
    "accuracy_score(y_test, pred)"
   ]
  },
  {
   "cell_type": "code",
   "execution_count": 29,
   "id": "afcbbcb9-e487-4cef-be2f-a5e82ccc7647",
   "metadata": {},
   "outputs": [
    {
     "data": {
      "text/plain": [
       "0.75"
      ]
     },
     "execution_count": 29,
     "metadata": {},
     "output_type": "execute_result"
    }
   ],
   "source": [
    "precision_score(y_test, pred, pos_label='개')"
   ]
  },
  {
   "cell_type": "code",
   "execution_count": 30,
   "id": "8df38fd2-d5eb-49cb-94af-b821e9d1a4f3",
   "metadata": {},
   "outputs": [
    {
     "data": {
      "text/plain": [
       "0.75"
      ]
     },
     "execution_count": 30,
     "metadata": {},
     "output_type": "execute_result"
    }
   ],
   "source": [
    "recall_score(y_test, pred, pos_label='개')"
   ]
  },
  {
   "cell_type": "markdown",
   "id": "286e4414-86cd-46d7-9896-e729c6ff97fb",
   "metadata": {},
   "source": [
    "### 1종오류/2종오류 알아보기\n",
    "+ 전자회로기판PCB 생산업체에서 불량률이 6% 이하일때 \n",
    "+ 계약업체로 선적해서 납품한다는 품질보증계약 체결함\n",
    "+ 불량률 6%이하 `선적함(P)`, 불량률 6%초과 `선적안함(N)`"
   ]
  },
  {
   "cell_type": "code",
   "execution_count": 31,
   "id": "80a24462-9c5a-481d-8c4f-15a99350ee15",
   "metadata": {},
   "outputs": [],
   "source": [
    "# 4000개의 회로판에서 표본 50개 추출\n",
    "# 4개가 불량 -> 0.08 -> 8% -> 선적x\n",
    "# 그런데, 4개의 불량이 전체 4000개에서 유일하다면?\n",
    "# 불량률 0.1% -> 선적취소는 잘못된 결정 (2종오류 - FN)"
   ]
  },
  {
   "cell_type": "code",
   "execution_count": 32,
   "id": "1ae9f2de-e800-4b07-af23-52d5c054e710",
   "metadata": {},
   "outputs": [],
   "source": [
    "# 4000개의 회로판에서 표본 50개 추출\n",
    "# 2개가 불량 -> 0.04 -> 4% -> 선적o\n",
    "# 그런데, 48개 정상품이 전체 4000개에서 유일\n",
    "# 불량률 98.8% -> 선적허용은 잘못된 결정 (1종오류 - FP)"
   ]
  },
  {
   "cell_type": "markdown",
   "id": "dcd78018-40e6-4b75-b687-93622519d6a4",
   "metadata": {},
   "source": [
    "### 정밀도/재현율 trade-off\n",
    "* 분류하는 업무의 특성상 정밀도 또는 재현율이 특별히 강조되어야 하는 경우 존재\n",
    "     + 정밀도 : 스팸분류 (FP 중시 - 1종오류)\n",
    "     + 재현율 : 임상실험 (FN 중시 - 2종오류)\n",
    "* 결정 임계값을 조정하면 정밀도 또는 재현율을 높일 수 있음\n",
    "     + 즉, 이진분류에서 0 또는 1로 판정할 기준값을 의미\n",
    "     + 임계값을 0.5로 정하는 경우 기준값보다 확률이 크면 positive, 작으면 negative로 결정\n",
    "* 한편, 정밀도와 재현율은 상호보완적인 지표이기때문에, \n",
    "* 어느 한쪽을 올리면 다른 한쪽은 떨어지는 관계를 뜀"
   ]
  },
  {
   "cell_type": "code",
   "execution_count": null,
   "id": "d2ec64d7-6ddc-4755-ae57-70f7f02ae17f",
   "metadata": {},
   "outputs": [],
   "source": []
  }
 ],
 "metadata": {
  "kernelspec": {
   "display_name": "Python 3 (ipykernel)",
   "language": "python",
   "name": "python3"
  },
  "language_info": {
   "codemirror_mode": {
    "name": "ipython",
    "version": 3
   },
   "file_extension": ".py",
   "mimetype": "text/x-python",
   "name": "python",
   "nbconvert_exporter": "python",
   "pygments_lexer": "ipython3",
   "version": "3.11.4"
  }
 },
 "nbformat": 4,
 "nbformat_minor": 5
}
