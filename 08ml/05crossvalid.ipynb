{
 "cells": [
  {
   "cell_type": "markdown",
   "id": "9232d974-d68f-4f1e-acd8-50c74923b546",
   "metadata": {},
   "source": [
    "## 다양한 알고리즘으로 훈련\n",
    "* 다양한 머신러닝 알고리즘을 이용해서\n",
    "* 교차검증 방식으로 모델을 훈련시키고\n",
    "* 예측정확도를 평가해 봄"
   ]
  },
  {
   "cell_type": "code",
   "execution_count": 1,
   "id": "4ae66770-293d-4de1-9593-19c2597cc13e",
   "metadata": {},
   "outputs": [],
   "source": [
    "import numpy as np\n",
    "import pandas as pd\n",
    "import matplotlib.pyplot as plt\n",
    "import seaborn as sns"
   ]
  },
  {
   "cell_type": "code",
   "execution_count": 2,
   "id": "9f3688ac-8332-4fe4-9284-ea62f1c7c49c",
   "metadata": {},
   "outputs": [],
   "source": [
    "from sklearn.model_selection import train_test_split, cross_val_score, KFold\n",
    "\n",
    "from sklearn.tree import DecisionTreeClassifier\n",
    "from sklearn.ensemble import RandomForestClassifier\n",
    "from sklearn.linear_model import LogisticRegression\n",
    "from sklearn.neighbors import KNeighborsClassifier\n",
    "\n",
    "from sklearn.metrics import accuracy_score"
   ]
  },
  {
   "cell_type": "code",
   "execution_count": 3,
   "id": "d3bdb977-a18d-479b-ad8f-c83abc853a2b",
   "metadata": {},
   "outputs": [
    {
     "data": {
      "text/html": [
       "<div>\n",
       "<style scoped>\n",
       "    .dataframe tbody tr th:only-of-type {\n",
       "        vertical-align: middle;\n",
       "    }\n",
       "\n",
       "    .dataframe tbody tr th {\n",
       "        vertical-align: top;\n",
       "    }\n",
       "\n",
       "    .dataframe thead th {\n",
       "        text-align: right;\n",
       "    }\n",
       "</style>\n",
       "<table border=\"1\" class=\"dataframe\">\n",
       "  <thead>\n",
       "    <tr style=\"text-align: right;\">\n",
       "      <th></th>\n",
       "      <th>titles</th>\n",
       "      <th>age</th>\n",
       "      <th>sibsp</th>\n",
       "      <th>parch</th>\n",
       "      <th>fare</th>\n",
       "      <th>gender</th>\n",
       "      <th>embark_town</th>\n",
       "      <th>pclass</th>\n",
       "      <th>survived</th>\n",
       "    </tr>\n",
       "  </thead>\n",
       "  <tbody>\n",
       "    <tr>\n",
       "      <th>0</th>\n",
       "      <td>16</td>\n",
       "      <td>29.0000</td>\n",
       "      <td>0.0</td>\n",
       "      <td>0.0</td>\n",
       "      <td>211.3375</td>\n",
       "      <td>0</td>\n",
       "      <td>2</td>\n",
       "      <td>0</td>\n",
       "      <td>1</td>\n",
       "    </tr>\n",
       "    <tr>\n",
       "      <th>1</th>\n",
       "      <td>13</td>\n",
       "      <td>0.9167</td>\n",
       "      <td>1.0</td>\n",
       "      <td>2.0</td>\n",
       "      <td>151.5500</td>\n",
       "      <td>1</td>\n",
       "      <td>2</td>\n",
       "      <td>0</td>\n",
       "      <td>1</td>\n",
       "    </tr>\n",
       "    <tr>\n",
       "      <th>2</th>\n",
       "      <td>16</td>\n",
       "      <td>2.0000</td>\n",
       "      <td>1.0</td>\n",
       "      <td>2.0</td>\n",
       "      <td>151.5500</td>\n",
       "      <td>0</td>\n",
       "      <td>2</td>\n",
       "      <td>0</td>\n",
       "      <td>0</td>\n",
       "    </tr>\n",
       "    <tr>\n",
       "      <th>3</th>\n",
       "      <td>19</td>\n",
       "      <td>30.0000</td>\n",
       "      <td>1.0</td>\n",
       "      <td>2.0</td>\n",
       "      <td>151.5500</td>\n",
       "      <td>1</td>\n",
       "      <td>2</td>\n",
       "      <td>0</td>\n",
       "      <td>0</td>\n",
       "    </tr>\n",
       "    <tr>\n",
       "      <th>4</th>\n",
       "      <td>20</td>\n",
       "      <td>25.0000</td>\n",
       "      <td>1.0</td>\n",
       "      <td>2.0</td>\n",
       "      <td>151.5500</td>\n",
       "      <td>0</td>\n",
       "      <td>2</td>\n",
       "      <td>0</td>\n",
       "      <td>0</td>\n",
       "    </tr>\n",
       "  </tbody>\n",
       "</table>\n",
       "</div>"
      ],
      "text/plain": [
       "   titles      age  sibsp  parch      fare  gender  embark_town  pclass  \\\n",
       "0      16  29.0000    0.0    0.0  211.3375       0            2       0   \n",
       "1      13   0.9167    1.0    2.0  151.5500       1            2       0   \n",
       "2      16   2.0000    1.0    2.0  151.5500       0            2       0   \n",
       "3      19  30.0000    1.0    2.0  151.5500       1            2       0   \n",
       "4      20  25.0000    1.0    2.0  151.5500       0            2       0   \n",
       "\n",
       "   survived  \n",
       "0         1  \n",
       "1         1  \n",
       "2         0  \n",
       "3         0  \n",
       "4         0  "
      ]
     },
     "execution_count": 3,
     "metadata": {},
     "output_type": "execute_result"
    }
   ],
   "source": [
    "# 데이터 불러오기\n",
    "titanic = pd.read_csv('titanic3.csv')\n",
    "titanic.head()"
   ]
  },
  {
   "cell_type": "code",
   "execution_count": 4,
   "id": "30a33de4-a024-40e3-90d5-3c0ee0f4acd0",
   "metadata": {},
   "outputs": [],
   "source": [
    "# data, target으로 나눔\n",
    "data = titanic.iloc[:, :8]\n",
    "target = titanic.survived"
   ]
  },
  {
   "cell_type": "code",
   "execution_count": 5,
   "id": "5381586a-1557-49e9-8807-5b79eb5f6e3a",
   "metadata": {},
   "outputs": [
    {
     "data": {
      "text/html": [
       "<div>\n",
       "<style scoped>\n",
       "    .dataframe tbody tr th:only-of-type {\n",
       "        vertical-align: middle;\n",
       "    }\n",
       "\n",
       "    .dataframe tbody tr th {\n",
       "        vertical-align: top;\n",
       "    }\n",
       "\n",
       "    .dataframe thead th {\n",
       "        text-align: right;\n",
       "    }\n",
       "</style>\n",
       "<table border=\"1\" class=\"dataframe\">\n",
       "  <thead>\n",
       "    <tr style=\"text-align: right;\">\n",
       "      <th></th>\n",
       "      <th>titles</th>\n",
       "      <th>age</th>\n",
       "      <th>sibsp</th>\n",
       "      <th>parch</th>\n",
       "      <th>fare</th>\n",
       "      <th>gender</th>\n",
       "      <th>embark_town</th>\n",
       "      <th>pclass</th>\n",
       "    </tr>\n",
       "  </thead>\n",
       "  <tbody>\n",
       "    <tr>\n",
       "      <th>0</th>\n",
       "      <td>16</td>\n",
       "      <td>29.000000</td>\n",
       "      <td>0.0</td>\n",
       "      <td>0.0</td>\n",
       "      <td>211.3375</td>\n",
       "      <td>0</td>\n",
       "      <td>2</td>\n",
       "      <td>0</td>\n",
       "    </tr>\n",
       "    <tr>\n",
       "      <th>1</th>\n",
       "      <td>13</td>\n",
       "      <td>0.916700</td>\n",
       "      <td>1.0</td>\n",
       "      <td>2.0</td>\n",
       "      <td>151.5500</td>\n",
       "      <td>1</td>\n",
       "      <td>2</td>\n",
       "      <td>0</td>\n",
       "    </tr>\n",
       "    <tr>\n",
       "      <th>2</th>\n",
       "      <td>16</td>\n",
       "      <td>2.000000</td>\n",
       "      <td>1.0</td>\n",
       "      <td>2.0</td>\n",
       "      <td>151.5500</td>\n",
       "      <td>0</td>\n",
       "      <td>2</td>\n",
       "      <td>0</td>\n",
       "    </tr>\n",
       "    <tr>\n",
       "      <th>3</th>\n",
       "      <td>19</td>\n",
       "      <td>30.000000</td>\n",
       "      <td>1.0</td>\n",
       "      <td>2.0</td>\n",
       "      <td>151.5500</td>\n",
       "      <td>1</td>\n",
       "      <td>2</td>\n",
       "      <td>0</td>\n",
       "    </tr>\n",
       "    <tr>\n",
       "      <th>4</th>\n",
       "      <td>20</td>\n",
       "      <td>25.000000</td>\n",
       "      <td>1.0</td>\n",
       "      <td>2.0</td>\n",
       "      <td>151.5500</td>\n",
       "      <td>0</td>\n",
       "      <td>2</td>\n",
       "      <td>0</td>\n",
       "    </tr>\n",
       "    <tr>\n",
       "      <th>...</th>\n",
       "      <td>...</td>\n",
       "      <td>...</td>\n",
       "      <td>...</td>\n",
       "      <td>...</td>\n",
       "      <td>...</td>\n",
       "      <td>...</td>\n",
       "      <td>...</td>\n",
       "      <td>...</td>\n",
       "    </tr>\n",
       "    <tr>\n",
       "      <th>1301</th>\n",
       "      <td>16</td>\n",
       "      <td>14.500000</td>\n",
       "      <td>1.0</td>\n",
       "      <td>0.0</td>\n",
       "      <td>14.4542</td>\n",
       "      <td>0</td>\n",
       "      <td>0</td>\n",
       "      <td>2</td>\n",
       "    </tr>\n",
       "    <tr>\n",
       "      <th>1302</th>\n",
       "      <td>16</td>\n",
       "      <td>29.881135</td>\n",
       "      <td>1.0</td>\n",
       "      <td>0.0</td>\n",
       "      <td>14.4542</td>\n",
       "      <td>0</td>\n",
       "      <td>0</td>\n",
       "      <td>2</td>\n",
       "    </tr>\n",
       "    <tr>\n",
       "      <th>1303</th>\n",
       "      <td>19</td>\n",
       "      <td>26.500000</td>\n",
       "      <td>0.0</td>\n",
       "      <td>0.0</td>\n",
       "      <td>7.2250</td>\n",
       "      <td>1</td>\n",
       "      <td>0</td>\n",
       "      <td>2</td>\n",
       "    </tr>\n",
       "    <tr>\n",
       "      <th>1304</th>\n",
       "      <td>19</td>\n",
       "      <td>27.000000</td>\n",
       "      <td>0.0</td>\n",
       "      <td>0.0</td>\n",
       "      <td>7.2250</td>\n",
       "      <td>1</td>\n",
       "      <td>0</td>\n",
       "      <td>2</td>\n",
       "    </tr>\n",
       "    <tr>\n",
       "      <th>1305</th>\n",
       "      <td>19</td>\n",
       "      <td>29.000000</td>\n",
       "      <td>0.0</td>\n",
       "      <td>0.0</td>\n",
       "      <td>7.8750</td>\n",
       "      <td>1</td>\n",
       "      <td>2</td>\n",
       "      <td>2</td>\n",
       "    </tr>\n",
       "  </tbody>\n",
       "</table>\n",
       "<p>1306 rows × 8 columns</p>\n",
       "</div>"
      ],
      "text/plain": [
       "      titles        age  sibsp  parch      fare  gender  embark_town  pclass\n",
       "0         16  29.000000    0.0    0.0  211.3375       0            2       0\n",
       "1         13   0.916700    1.0    2.0  151.5500       1            2       0\n",
       "2         16   2.000000    1.0    2.0  151.5500       0            2       0\n",
       "3         19  30.000000    1.0    2.0  151.5500       1            2       0\n",
       "4         20  25.000000    1.0    2.0  151.5500       0            2       0\n",
       "...      ...        ...    ...    ...       ...     ...          ...     ...\n",
       "1301      16  14.500000    1.0    0.0   14.4542       0            0       2\n",
       "1302      16  29.881135    1.0    0.0   14.4542       0            0       2\n",
       "1303      19  26.500000    0.0    0.0    7.2250       1            0       2\n",
       "1304      19  27.000000    0.0    0.0    7.2250       1            0       2\n",
       "1305      19  29.000000    0.0    0.0    7.8750       1            2       2\n",
       "\n",
       "[1306 rows x 8 columns]"
      ]
     },
     "execution_count": 5,
     "metadata": {},
     "output_type": "execute_result"
    }
   ],
   "source": [
    "data"
   ]
  },
  {
   "cell_type": "code",
   "execution_count": 6,
   "id": "65ab6c62-1bbe-457a-8966-b2e3d31bf91f",
   "metadata": {},
   "outputs": [
    {
     "data": {
      "text/plain": [
       "survived\n",
       "0    808\n",
       "1    498\n",
       "Name: count, dtype: int64"
      ]
     },
     "execution_count": 6,
     "metadata": {},
     "output_type": "execute_result"
    }
   ],
   "source": [
    "titanic.survived.value_counts()"
   ]
  },
  {
   "cell_type": "code",
   "execution_count": 7,
   "id": "27fc1918-809b-44b1-a52d-264328688e51",
   "metadata": {},
   "outputs": [],
   "source": [
    "# train, test로 나눔\n",
    "X_train, X_test, y_train, y_test = train_test_split(data, target, train_size=0.7, \n",
    "                                                    random_state=2309220945, stratify=target)"
   ]
  },
  {
   "cell_type": "markdown",
   "id": "9d98f970-5d87-4df7-8c92-6db077c79dbb",
   "metadata": {},
   "source": [
    "## 머신러닝 알고리즘 적용"
   ]
  },
  {
   "cell_type": "markdown",
   "id": "a5fed088-a7a0-4388-91b2-c970e156764a",
   "metadata": {},
   "source": [
    "#### 의사결정나무 분류기"
   ]
  },
  {
   "cell_type": "code",
   "execution_count": 8,
   "id": "f2e860dc-eaf0-4b07-ae43-7de1bbeeb163",
   "metadata": {},
   "outputs": [
    {
     "data": {
      "text/plain": [
       "0.7397959183673469"
      ]
     },
     "execution_count": 8,
     "metadata": {},
     "output_type": "execute_result"
    }
   ],
   "source": [
    "dtclf = DecisionTreeClassifier()\n",
    "\n",
    "dtclf.fit(X_train, y_train)\n",
    "pred = dtclf.predict(X_test)\n",
    "accuracy_score(y_test, pred)"
   ]
  },
  {
   "cell_type": "markdown",
   "id": "bce57c70-71bc-4ae1-a4cd-5b08de911443",
   "metadata": {},
   "source": [
    "#### 로지스틱 회귀 분류기"
   ]
  },
  {
   "cell_type": "code",
   "execution_count": 9,
   "id": "bd800fe2-aafe-4bec-bb8d-38ba43c5d547",
   "metadata": {},
   "outputs": [
    {
     "name": "stderr",
     "output_type": "stream",
     "text": [
      "/opt/conda/lib/python3.11/site-packages/sklearn/linear_model/_logistic.py:458: ConvergenceWarning: lbfgs failed to converge (status=1):\n",
      "STOP: TOTAL NO. of ITERATIONS REACHED LIMIT.\n",
      "\n",
      "Increase the number of iterations (max_iter) or scale the data as shown in:\n",
      "    https://scikit-learn.org/stable/modules/preprocessing.html\n",
      "Please also refer to the documentation for alternative solver options:\n",
      "    https://scikit-learn.org/stable/modules/linear_model.html#logistic-regression\n",
      "  n_iter_i = _check_optimize_result(\n"
     ]
    },
    {
     "data": {
      "text/plain": [
       "0.7602040816326531"
      ]
     },
     "execution_count": 9,
     "metadata": {},
     "output_type": "execute_result"
    }
   ],
   "source": [
    "lrclf = LogisticRegression()\n",
    "\n",
    "lrclf.fit(X_train, y_train)\n",
    "pred = lrclf.predict(X_test)\n",
    "accuracy_score(y_test, pred)"
   ]
  },
  {
   "cell_type": "markdown",
   "id": "1cb4cf76-1e91-4948-b5e1-ca5da651965b",
   "metadata": {},
   "source": [
    "#### 랜덤포레스트 분류기"
   ]
  },
  {
   "cell_type": "code",
   "execution_count": 10,
   "id": "82be3ad5-b96b-485c-b90f-8296aeebfa56",
   "metadata": {},
   "outputs": [
    {
     "data": {
      "text/plain": [
       "0.7831632653061225"
      ]
     },
     "execution_count": 10,
     "metadata": {},
     "output_type": "execute_result"
    }
   ],
   "source": [
    "rfclf = RandomForestClassifier()\n",
    "\n",
    "rfclf.fit(X_train, y_train)\n",
    "pred = rfclf.predict(X_test)\n",
    "accuracy_score(y_test, pred)"
   ]
  },
  {
   "cell_type": "markdown",
   "id": "196d9aaa-4e90-4cde-ac55-a95590bc206f",
   "metadata": {},
   "source": [
    "#### K이웃 분류기"
   ]
  },
  {
   "cell_type": "code",
   "execution_count": 11,
   "id": "a89b19fc-69dd-430d-b601-24a011dcc9dd",
   "metadata": {},
   "outputs": [],
   "source": [
    "# 'Flags' object has no attribute 'c_contiguous'"
   ]
  },
  {
   "cell_type": "code",
   "execution_count": 12,
   "id": "9514936a-cb2d-4286-a03c-572816e0d4ea",
   "metadata": {},
   "outputs": [],
   "source": [
    "# pip install scikit-learn==1.2.2"
   ]
  },
  {
   "cell_type": "code",
   "execution_count": 13,
   "id": "1224d513-3f3a-4c76-80ae-26cf1a38416c",
   "metadata": {},
   "outputs": [
    {
     "data": {
      "text/plain": [
       "0.6964285714285714"
      ]
     },
     "execution_count": 13,
     "metadata": {},
     "output_type": "execute_result"
    }
   ],
   "source": [
    "knclf = KNeighborsClassifier(n_neighbors=5)\n",
    "\n",
    "knclf.fit(X_train, y_train)\n",
    "pred = knclf.predict(X_test)\n",
    "accuracy_score(y_test, pred)"
   ]
  },
  {
   "cell_type": "markdown",
   "id": "4270005e-23d0-4260-8148-0f9ce824c2cc",
   "metadata": {},
   "source": [
    "### 교차검증 cross validation\n",
    "* 데이터수가 적은 경우 데이터의 일부인 평가 데이터도 작음\n",
    "    + 성능 평가의 신뢰도 의심\n",
    "* 데이터를 동일한 크기로 k개 나누고\n",
    "* 이들 중 훈련/평가 데이터로 구분지어 평가를 k번 실시함\n",
    "    + KFold 교차검증이라 함\n",
    "* sklearn 패키지에서는 cross_val_score 함수 이용\n",
    "* cross_val_score(분류기, 독립변수, 종속변수, 평가방식, 검증횟수)"
   ]
  },
  {
   "cell_type": "code",
   "execution_count": 14,
   "id": "204063f0-efe1-4c25-844d-6f3d463fa145",
   "metadata": {},
   "outputs": [
    {
     "data": {
      "text/plain": [
       "(array([0.64122137, 0.7480916 , 0.83206107, 0.70992366, 0.71755725,\n",
       "        0.71755725, 0.66923077, 0.62307692, 0.66923077, 0.68461538]),\n",
       " 0.7012566059894304)"
      ]
     },
     "execution_count": 14,
     "metadata": {},
     "output_type": "execute_result"
    }
   ],
   "source": [
    "dtclf = DecisionTreeClassifier()\n",
    "scores = cross_val_score(dtclf, data, target, scoring='accuracy', cv=10)\n",
    "scores, np.mean(scores)"
   ]
  },
  {
   "cell_type": "code",
   "execution_count": 15,
   "id": "1de2c778-7a16-4192-ba96-1657234406d4",
   "metadata": {},
   "outputs": [
    {
     "data": {
      "text/plain": [
       "(array([0.60305344, 0.80916031, 0.89312977, 0.83969466, 0.80152672,\n",
       "        0.83206107, 0.73846154, 0.64615385, 0.73846154, 0.75384615]),\n",
       " 0.765554903112155)"
      ]
     },
     "execution_count": 15,
     "metadata": {},
     "output_type": "execute_result"
    }
   ],
   "source": [
    "lrclf = LogisticRegression(max_iter=500)\n",
    "scores = cross_val_score(lrclf, data, target, scoring='accuracy', cv=10)\n",
    "scores, np.mean(scores)"
   ]
  },
  {
   "cell_type": "code",
   "execution_count": 16,
   "id": "c927ea44-7859-4f94-933f-2df5d1e7ad56",
   "metadata": {},
   "outputs": [
    {
     "data": {
      "text/plain": [
       "(array([0.69465649, 0.80916031, 0.83969466, 0.77862595, 0.77862595,\n",
       "        0.81679389, 0.72307692, 0.64615385, 0.69230769, 0.72307692]),\n",
       " 0.7502172636523782)"
      ]
     },
     "execution_count": 16,
     "metadata": {},
     "output_type": "execute_result"
    }
   ],
   "source": [
    "rfclf = RandomForestClassifier()\n",
    "scores = cross_val_score(rfclf, data, target, scoring='accuracy', cv=10)\n",
    "scores, np.mean(scores)"
   ]
  },
  {
   "cell_type": "code",
   "execution_count": 17,
   "id": "de308041-ec3a-447d-ada2-6017d388a827",
   "metadata": {},
   "outputs": [
    {
     "data": {
      "text/plain": [
       "(array([0.55725191, 0.6870229 , 0.67938931, 0.80152672, 0.6259542 ,\n",
       "        0.6870229 , 0.66153846, 0.59230769, 0.63846154, 0.65384615]),\n",
       " 0.6584321785085143)"
      ]
     },
     "execution_count": 17,
     "metadata": {},
     "output_type": "execute_result"
    }
   ],
   "source": [
    "knclf = KNeighborsClassifier(n_neighbors=7)\n",
    "scores = cross_val_score(knclf, data, target, scoring='accuracy', cv=10)\n",
    "scores, np.mean(scores)"
   ]
  }
 ],
 "metadata": {
  "kernelspec": {
   "display_name": "Python 3 (ipykernel)",
   "language": "python",
   "name": "python3"
  },
  "language_info": {
   "codemirror_mode": {
    "name": "ipython",
    "version": 3
   },
   "file_extension": ".py",
   "mimetype": "text/x-python",
   "name": "python",
   "nbconvert_exporter": "python",
   "pygments_lexer": "ipython3",
   "version": "3.11.4"
  }
 },
 "nbformat": 4,
 "nbformat_minor": 5
}
