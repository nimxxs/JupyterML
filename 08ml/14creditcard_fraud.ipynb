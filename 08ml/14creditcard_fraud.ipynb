{
 "cells": [
  {
   "cell_type": "markdown",
   "id": "4e07a396-21e0-4127-b1dd-def001d01f62",
   "metadata": {},
   "source": [
    "## Credit Card Fraud Detection\n",
    "* 2013년 9월 유럽의 신용카드 사용자들의 실제 거래기록\n",
    "* kaggle에서 주최한 데이터분석 대회에서 사용한 데이터\n",
    "    + V1 ~ V28 : 개인정보로 공개되지 않은 값\n",
    "    + Time : 시간\n",
    "    + Amount : 거래금액\n",
    "    + Class : 사기 여부 (1: 사기, 0: 정상)"
   ]
  },
  {
   "cell_type": "code",
   "execution_count": 1,
   "id": "b0dd985e-3105-476b-883a-6ceabe2a8925",
   "metadata": {},
   "outputs": [],
   "source": [
    "import numpy as np\n",
    "import pandas as pd\n",
    "import seaborn as sns\n",
    "import matplotlib.pyplot as plt"
   ]
  },
  {
   "cell_type": "code",
   "execution_count": 2,
   "id": "50a5ee33-ab6a-470d-b760-4ff8711be75e",
   "metadata": {},
   "outputs": [],
   "source": [
    "from sklearn.model_selection import train_test_split\n",
    "from sklearn.model_selection import cross_val_score\n",
    "\n",
    "from sklearn.neighbors import KNeighborsClassifier\n",
    "from sklearn.linear_model import LogisticRegression\n",
    "from sklearn.tree import DecisionTreeClassifier\n",
    "from sklearn.naive_bayes import BernoulliNB\n",
    "\n",
    "from sklearn.metrics import confusion_matrix\n",
    "from sklearn.metrics import accuracy_score\n",
    "from sklearn.metrics import recall_score\n",
    "from sklearn.metrics import precision_score"
   ]
  },
  {
   "cell_type": "code",
   "execution_count": 5,
   "id": "c7f90cc1-36f7-4e6e-b7bc-8f72542a9661",
   "metadata": {},
   "outputs": [
    {
     "data": {
      "text/html": [
       "<div>\n",
       "<style scoped>\n",
       "    .dataframe tbody tr th:only-of-type {\n",
       "        vertical-align: middle;\n",
       "    }\n",
       "\n",
       "    .dataframe tbody tr th {\n",
       "        vertical-align: top;\n",
       "    }\n",
       "\n",
       "    .dataframe thead th {\n",
       "        text-align: right;\n",
       "    }\n",
       "</style>\n",
       "<table border=\"1\" class=\"dataframe\">\n",
       "  <thead>\n",
       "    <tr style=\"text-align: right;\">\n",
       "      <th></th>\n",
       "      <th>Time</th>\n",
       "      <th>V1</th>\n",
       "      <th>V2</th>\n",
       "      <th>V3</th>\n",
       "      <th>V4</th>\n",
       "      <th>V5</th>\n",
       "      <th>V6</th>\n",
       "      <th>V7</th>\n",
       "      <th>V8</th>\n",
       "      <th>V9</th>\n",
       "      <th>...</th>\n",
       "      <th>V21</th>\n",
       "      <th>V22</th>\n",
       "      <th>V23</th>\n",
       "      <th>V24</th>\n",
       "      <th>V25</th>\n",
       "      <th>V26</th>\n",
       "      <th>V27</th>\n",
       "      <th>V28</th>\n",
       "      <th>Amount</th>\n",
       "      <th>Class</th>\n",
       "    </tr>\n",
       "  </thead>\n",
       "  <tbody>\n",
       "    <tr>\n",
       "      <th>0</th>\n",
       "      <td>0.0</td>\n",
       "      <td>-1.359807</td>\n",
       "      <td>-0.072781</td>\n",
       "      <td>2.536347</td>\n",
       "      <td>1.378155</td>\n",
       "      <td>-0.338321</td>\n",
       "      <td>0.462388</td>\n",
       "      <td>0.239599</td>\n",
       "      <td>0.098698</td>\n",
       "      <td>0.363787</td>\n",
       "      <td>...</td>\n",
       "      <td>-0.018307</td>\n",
       "      <td>0.277838</td>\n",
       "      <td>-0.110474</td>\n",
       "      <td>0.066928</td>\n",
       "      <td>0.128539</td>\n",
       "      <td>-0.189115</td>\n",
       "      <td>0.133558</td>\n",
       "      <td>-0.021053</td>\n",
       "      <td>149.62</td>\n",
       "      <td>0</td>\n",
       "    </tr>\n",
       "    <tr>\n",
       "      <th>1</th>\n",
       "      <td>0.0</td>\n",
       "      <td>1.191857</td>\n",
       "      <td>0.266151</td>\n",
       "      <td>0.166480</td>\n",
       "      <td>0.448154</td>\n",
       "      <td>0.060018</td>\n",
       "      <td>-0.082361</td>\n",
       "      <td>-0.078803</td>\n",
       "      <td>0.085102</td>\n",
       "      <td>-0.255425</td>\n",
       "      <td>...</td>\n",
       "      <td>-0.225775</td>\n",
       "      <td>-0.638672</td>\n",
       "      <td>0.101288</td>\n",
       "      <td>-0.339846</td>\n",
       "      <td>0.167170</td>\n",
       "      <td>0.125895</td>\n",
       "      <td>-0.008983</td>\n",
       "      <td>0.014724</td>\n",
       "      <td>2.69</td>\n",
       "      <td>0</td>\n",
       "    </tr>\n",
       "    <tr>\n",
       "      <th>2</th>\n",
       "      <td>1.0</td>\n",
       "      <td>-1.358354</td>\n",
       "      <td>-1.340163</td>\n",
       "      <td>1.773209</td>\n",
       "      <td>0.379780</td>\n",
       "      <td>-0.503198</td>\n",
       "      <td>1.800499</td>\n",
       "      <td>0.791461</td>\n",
       "      <td>0.247676</td>\n",
       "      <td>-1.514654</td>\n",
       "      <td>...</td>\n",
       "      <td>0.247998</td>\n",
       "      <td>0.771679</td>\n",
       "      <td>0.909412</td>\n",
       "      <td>-0.689281</td>\n",
       "      <td>-0.327642</td>\n",
       "      <td>-0.139097</td>\n",
       "      <td>-0.055353</td>\n",
       "      <td>-0.059752</td>\n",
       "      <td>378.66</td>\n",
       "      <td>0</td>\n",
       "    </tr>\n",
       "    <tr>\n",
       "      <th>3</th>\n",
       "      <td>1.0</td>\n",
       "      <td>-0.966272</td>\n",
       "      <td>-0.185226</td>\n",
       "      <td>1.792993</td>\n",
       "      <td>-0.863291</td>\n",
       "      <td>-0.010309</td>\n",
       "      <td>1.247203</td>\n",
       "      <td>0.237609</td>\n",
       "      <td>0.377436</td>\n",
       "      <td>-1.387024</td>\n",
       "      <td>...</td>\n",
       "      <td>-0.108300</td>\n",
       "      <td>0.005274</td>\n",
       "      <td>-0.190321</td>\n",
       "      <td>-1.175575</td>\n",
       "      <td>0.647376</td>\n",
       "      <td>-0.221929</td>\n",
       "      <td>0.062723</td>\n",
       "      <td>0.061458</td>\n",
       "      <td>123.50</td>\n",
       "      <td>0</td>\n",
       "    </tr>\n",
       "    <tr>\n",
       "      <th>4</th>\n",
       "      <td>2.0</td>\n",
       "      <td>-1.158233</td>\n",
       "      <td>0.877737</td>\n",
       "      <td>1.548718</td>\n",
       "      <td>0.403034</td>\n",
       "      <td>-0.407193</td>\n",
       "      <td>0.095921</td>\n",
       "      <td>0.592941</td>\n",
       "      <td>-0.270533</td>\n",
       "      <td>0.817739</td>\n",
       "      <td>...</td>\n",
       "      <td>-0.009431</td>\n",
       "      <td>0.798278</td>\n",
       "      <td>-0.137458</td>\n",
       "      <td>0.141267</td>\n",
       "      <td>-0.206010</td>\n",
       "      <td>0.502292</td>\n",
       "      <td>0.219422</td>\n",
       "      <td>0.215153</td>\n",
       "      <td>69.99</td>\n",
       "      <td>0</td>\n",
       "    </tr>\n",
       "  </tbody>\n",
       "</table>\n",
       "<p>5 rows × 31 columns</p>\n",
       "</div>"
      ],
      "text/plain": [
       "   Time        V1        V2        V3        V4        V5        V6        V7  \\\n",
       "0   0.0 -1.359807 -0.072781  2.536347  1.378155 -0.338321  0.462388  0.239599   \n",
       "1   0.0  1.191857  0.266151  0.166480  0.448154  0.060018 -0.082361 -0.078803   \n",
       "2   1.0 -1.358354 -1.340163  1.773209  0.379780 -0.503198  1.800499  0.791461   \n",
       "3   1.0 -0.966272 -0.185226  1.792993 -0.863291 -0.010309  1.247203  0.237609   \n",
       "4   2.0 -1.158233  0.877737  1.548718  0.403034 -0.407193  0.095921  0.592941   \n",
       "\n",
       "         V8        V9  ...       V21       V22       V23       V24       V25  \\\n",
       "0  0.098698  0.363787  ... -0.018307  0.277838 -0.110474  0.066928  0.128539   \n",
       "1  0.085102 -0.255425  ... -0.225775 -0.638672  0.101288 -0.339846  0.167170   \n",
       "2  0.247676 -1.514654  ...  0.247998  0.771679  0.909412 -0.689281 -0.327642   \n",
       "3  0.377436 -1.387024  ... -0.108300  0.005274 -0.190321 -1.175575  0.647376   \n",
       "4 -0.270533  0.817739  ... -0.009431  0.798278 -0.137458  0.141267 -0.206010   \n",
       "\n",
       "        V26       V27       V28  Amount  Class  \n",
       "0 -0.189115  0.133558 -0.021053  149.62      0  \n",
       "1  0.125895 -0.008983  0.014724    2.69      0  \n",
       "2 -0.139097 -0.055353 -0.059752  378.66      0  \n",
       "3 -0.221929  0.062723  0.061458  123.50      0  \n",
       "4  0.502292  0.219422  0.215153   69.99      0  \n",
       "\n",
       "[5 rows x 31 columns]"
      ]
     },
     "execution_count": 5,
     "metadata": {},
     "output_type": "execute_result"
    }
   ],
   "source": [
    "fraud = pd.read_csv('data/creditcard.csv')\n",
    "fraud.head()"
   ]
  },
  {
   "cell_type": "code",
   "execution_count": 6,
   "id": "1b68edc8-f117-4e34-a6c7-1e5d4c7ad809",
   "metadata": {},
   "outputs": [
    {
     "name": "stdout",
     "output_type": "stream",
     "text": [
      "<class 'pandas.core.frame.DataFrame'>\n",
      "RangeIndex: 284807 entries, 0 to 284806\n",
      "Data columns (total 31 columns):\n",
      " #   Column  Non-Null Count   Dtype  \n",
      "---  ------  --------------   -----  \n",
      " 0   Time    284807 non-null  float64\n",
      " 1   V1      284807 non-null  float64\n",
      " 2   V2      284807 non-null  float64\n",
      " 3   V3      284807 non-null  float64\n",
      " 4   V4      284807 non-null  float64\n",
      " 5   V5      284807 non-null  float64\n",
      " 6   V6      284807 non-null  float64\n",
      " 7   V7      284807 non-null  float64\n",
      " 8   V8      284807 non-null  float64\n",
      " 9   V9      284807 non-null  float64\n",
      " 10  V10     284807 non-null  float64\n",
      " 11  V11     284807 non-null  float64\n",
      " 12  V12     284807 non-null  float64\n",
      " 13  V13     284807 non-null  float64\n",
      " 14  V14     284807 non-null  float64\n",
      " 15  V15     284807 non-null  float64\n",
      " 16  V16     284807 non-null  float64\n",
      " 17  V17     284807 non-null  float64\n",
      " 18  V18     284807 non-null  float64\n",
      " 19  V19     284807 non-null  float64\n",
      " 20  V20     284807 non-null  float64\n",
      " 21  V21     284807 non-null  float64\n",
      " 22  V22     284807 non-null  float64\n",
      " 23  V23     284807 non-null  float64\n",
      " 24  V24     284807 non-null  float64\n",
      " 25  V25     284807 non-null  float64\n",
      " 26  V26     284807 non-null  float64\n",
      " 27  V27     284807 non-null  float64\n",
      " 28  V28     284807 non-null  float64\n",
      " 29  Amount  284807 non-null  float64\n",
      " 30  Class   284807 non-null  int64  \n",
      "dtypes: float64(30), int64(1)\n",
      "memory usage: 67.4 MB\n"
     ]
    }
   ],
   "source": [
    "fraud.info()"
   ]
  },
  {
   "cell_type": "code",
   "execution_count": 7,
   "id": "8064d66c-bd06-4905-9992-0fa5cf7bc1df",
   "metadata": {},
   "outputs": [
    {
     "data": {
      "text/plain": [
       "Class\n",
       "0    284315\n",
       "1       492\n",
       "Name: count, dtype: int64"
      ]
     },
     "execution_count": 7,
     "metadata": {},
     "output_type": "execute_result"
    }
   ],
   "source": [
    "fraud['Class'].value_counts()"
   ]
  },
  {
   "cell_type": "code",
   "execution_count": 8,
   "id": "fece92cc-263f-4e75-aef6-dbf0c992613e",
   "metadata": {},
   "outputs": [
    {
     "data": {
      "text/plain": [
       "count    284807.000000\n",
       "mean         88.349619\n",
       "std         250.120109\n",
       "min           0.000000\n",
       "25%           5.600000\n",
       "50%          22.000000\n",
       "75%          77.165000\n",
       "max       25691.160000\n",
       "Name: Amount, dtype: float64"
      ]
     },
     "execution_count": 8,
     "metadata": {},
     "output_type": "execute_result"
    }
   ],
   "source": [
    "fraud.Amount.describe()"
   ]
  },
  {
   "cell_type": "code",
   "execution_count": 9,
   "id": "8fdce4d6-38ae-427f-a091-5e2f362d1738",
   "metadata": {
    "collapsed": true,
    "jupyter": {
     "outputs_hidden": true
    }
   },
   "outputs": [
    {
     "data": {
      "image/png": "[encoded data removed]",
      "text/plain": [
       "<Figure size 640x480 with 1 Axes>"
      ]
     },
     "metadata": {},
     "output_type": "display_data"
    }
   ],
   "source": [
    "sns.boxplot(x='Amount', data=fraud)\n",
    "plt.tight_layout()"
   ]
  },
  {
   "cell_type": "code",
   "execution_count": 11,
   "id": "99a3e0ba-41b9-42f1-bd74-2cd3d17ba74d",
   "metadata": {},
   "outputs": [],
   "source": [
    "data = fraud.loc[:, 'V1':'V28']\n",
    "target = fraud['Class']\n",
    "\n",
    "Xtrain, Xtest, ytrain, ytest= train_test_split(data, target, train_size=0.75,\n",
    "                random_state=2309261410, stratify=target)"
   ]
  },
  {
   "cell_type": "code",
   "execution_count": 3,
   "id": "7cb54587-c271-4cfc-aab2-5bc2c8746a1d",
   "metadata": {},
   "outputs": [],
   "source": [
    "from sklearn.metrics import f1_score"
   ]
  },
  {
   "cell_type": "code",
   "execution_count": 12,
   "id": "b6eaced3-c159-4e23-b360-853f28d59816",
   "metadata": {},
   "outputs": [
    {
     "data": {
      "text/plain": [
       "(0.9991760492497834, 0.9992135052386169)"
      ]
     },
     "execution_count": 12,
     "metadata": {},
     "output_type": "execute_result"
    }
   ],
   "source": [
    "# 분석1 - 로지스틱 회귀\n",
    "lgclf = LogisticRegression()\n",
    "\n",
    "lgclf.fit(Xtrain, ytrain)\n",
    "pred = lgclf.predict(Xtest)\n",
    "\n",
    "lgclf.score(Xtrain, ytrain), accuracy_score(pred, ytest)"
   ]
  },
  {
   "cell_type": "code",
   "execution_count": 13,
   "id": "636f89f3-b2a6-4e97-a328-d9a358bb5d1b",
   "metadata": {},
   "outputs": [
    {
     "data": {
      "text/plain": [
       "array([[71071,    48],\n",
       "       [    8,    75]])"
      ]
     },
     "execution_count": 13,
     "metadata": {},
     "output_type": "execute_result"
    }
   ],
   "source": [
    "confusion_matrix(pred, ytest)"
   ]
  },
  {
   "cell_type": "code",
   "execution_count": 14,
   "id": "43e6768c-28c8-4b81-a967-6320d1d49bd7",
   "metadata": {},
   "outputs": [
    {
     "data": {
      "text/plain": [
       "0.9036144578313253"
      ]
     },
     "execution_count": 14,
     "metadata": {},
     "output_type": "execute_result"
    }
   ],
   "source": [
    "# precision_score(Xtrain, ytrain)\n",
    "recall_score(pred, ytest)"
   ]
  },
  {
   "cell_type": "code",
   "execution_count": 15,
   "id": "ef6f8ff9-677f-4e0a-ba4f-ddd930b6f6aa",
   "metadata": {},
   "outputs": [
    {
     "data": {
      "text/plain": [
       "(1.0, 0.999115193393444)"
      ]
     },
     "execution_count": 15,
     "metadata": {},
     "output_type": "execute_result"
    }
   ],
   "source": [
    "# 분석2 - 의사결정 나무\n",
    "dtclf = DecisionTreeClassifier()\n",
    "\n",
    "dtclf.fit(Xtrain, ytrain)\n",
    "pred = dtclf.predict(Xtest)\n",
    "\n",
    "dtclf.score(Xtrain, ytrain), accuracy_score(pred, ytest)"
   ]
  },
  {
   "cell_type": "code",
   "execution_count": 16,
   "id": "c31947ec-fdac-47c1-ae4b-fe21652016d7",
   "metadata": {},
   "outputs": [
    {
     "data": {
      "text/plain": [
       "array([[71048,    31],\n",
       "       [   32,    91]])"
      ]
     },
     "execution_count": 16,
     "metadata": {},
     "output_type": "execute_result"
    }
   ],
   "source": [
    "confusion_matrix(ytest, pred)"
   ]
  },
  {
   "cell_type": "code",
   "execution_count": 17,
   "id": "05a1d6cd-d781-47e2-9e75-8ef13e1c7baf",
   "metadata": {},
   "outputs": [
    {
     "data": {
      "text/plain": [
       "0.7459016393442623"
      ]
     },
     "execution_count": 17,
     "metadata": {},
     "output_type": "execute_result"
    }
   ],
   "source": [
    "# precision_score(Xtrain, ytrain)\n",
    "recall_score(pred, ytest)"
   ]
  },
  {
   "cell_type": "code",
   "execution_count": 18,
   "id": "7819a92c-7eb7-42dc-a712-3a477e48b088",
   "metadata": {},
   "outputs": [
    {
     "data": {
      "text/plain": [
       "(0.99917136771143, 0.9990871042948232)"
      ]
     },
     "execution_count": 18,
     "metadata": {},
     "output_type": "execute_result"
    }
   ],
   "source": [
    "# 분석 3 - 나이브 베이즈\n",
    "nbclf = BernoulliNB()\n",
    "\n",
    "nbclf.fit(Xtrain, ytrain)\n",
    "pred = nbclf.predict(Xtest)\n",
    "\n",
    "nbclf.score(Xtrain, ytrain), accuracy_score(pred, ytest)"
   ]
  },
  {
   "cell_type": "code",
   "execution_count": 19,
   "id": "01250fbb-8dd4-459e-97a7-69577281db83",
   "metadata": {},
   "outputs": [
    {
     "data": {
      "text/plain": [
       "array([[71061,    18],\n",
       "       [   47,    76]])"
      ]
     },
     "execution_count": 19,
     "metadata": {},
     "output_type": "execute_result"
    }
   ],
   "source": [
    "confusion_matrix(ytest, pred)"
   ]
  },
  {
   "cell_type": "code",
   "execution_count": 22,
   "id": "1712172e-b60f-4d23-b50b-ad184ac8c83c",
   "metadata": {},
   "outputs": [
    {
     "data": {
      "text/plain": [
       "0.8085106382978723"
      ]
     },
     "execution_count": 22,
     "metadata": {},
     "output_type": "execute_result"
    }
   ],
   "source": [
    "# precision_score(Xtrain, ytrain)\n",
    "recall_score(pred, ytest)"
   ]
  },
  {
   "cell_type": "code",
   "execution_count": 21,
   "id": "44af3aaa-e009-427d-a6db-c900a2fdb7dc",
   "metadata": {},
   "outputs": [
    {
     "data": {
      "text/plain": [
       "0.7004608294930876"
      ]
     },
     "execution_count": 21,
     "metadata": {},
     "output_type": "execute_result"
    }
   ],
   "source": [
    "# precision_score(Xtrain, ytrain)\n",
    "f1_score(pred, ytest)"
   ]
  },
  {
   "cell_type": "code",
   "execution_count": null,
   "id": "d1a4207e-8c3e-4238-982f-8abf2b044aee",
   "metadata": {},
   "outputs": [],
   "source": [
    "# 분석4 - 최근접 이웃\n",
    "scores = []\n",
    "for k in range(1, 30):\n",
    "    knnclf = KNeighborsClassifier(n_neighbors=k)\n",
    "    score = cross_val_score(knnclf, Xtrain, ytrain, cv=5, scoring='accuracy') \n",
    "    scores.append(score.mean())"
   ]
  },
  {
   "cell_type": "code",
   "execution_count": null,
   "id": "6b22efc1-0e78-4c16-b8d3-75a338b81e17",
   "metadata": {},
   "outputs": [],
   "source": [
    "plt.plot(scores, 'ro-')\n",
    "plt.tight_layout()"
   ]
  },
  {
   "cell_type": "code",
   "execution_count": null,
   "id": "98284be9-a037-4482-b9c0-d7afaa1bbeac",
   "metadata": {},
   "outputs": [],
   "source": [
    "knnclf = KNeighborsClassifier(n_neighbors=5)\n",
    "\n",
    "knnclf.fit(Xtrain, ytrain)\n",
    "pred = knnclf.predict(Xtest)\n",
    "\n",
    "knnclf.score(Xtrain, ytrain), accuracy_score(pred, ytest)"
   ]
  }
 ],
 "metadata": {
  "kernelspec": {
   "display_name": "Python 3 (ipykernel)",
   "language": "python",
   "name": "python3"
  },
  "language_info": {
   "codemirror_mode": {
    "name": "ipython",
    "version": 3
   },
   "file_extension": ".py",
   "mimetype": "text/x-python",
   "name": "python",
   "nbconvert_exporter": "python",
   "pygments_lexer": "ipython3",
   "version": "3.11.4"
  }
 },
 "nbformat": 4,
 "nbformat_minor": 5
}
